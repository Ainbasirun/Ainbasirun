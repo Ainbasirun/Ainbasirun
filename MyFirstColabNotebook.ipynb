{
  "nbformat": 4,
  "nbformat_minor": 0,
  "metadata": {
    "colab": {
      "provenance": [],
      "mount_file_id": "1vzFpexGsw07nyGEwFNzc1dLrgE-mxy2-",
      "authorship_tag": "ABX9TyOLIx6MysIdXgwBRbn94V5L",
      "include_colab_link": true
    },
    "kernelspec": {
      "name": "python3",
      "display_name": "Python 3"
    },
    "language_info": {
      "name": "python"
    }
  },
  "cells": [
    {
      "cell_type": "markdown",
      "metadata": {
        "id": "view-in-github",
        "colab_type": "text"
      },
      "source": [
        "<a href=\"https://colab.research.google.com/github/Ainbasirun/Ainbasirun/blob/main/MyFirstColabNotebook.ipynb\" target=\"_parent\"><img src=\"https://colab.research.google.com/assets/colab-badge.svg\" alt=\"Open In Colab\"/></a>"
      ]
    },
    {
      "cell_type": "code",
      "execution_count": 28,
      "metadata": {
        "colab": {
          "base_uri": "https://localhost:8080/"
        },
        "id": "tUq5dPUvRqYR",
        "outputId": "bf6ac147-90ee-421d-e0b0-57352fc5df6c"
      },
      "outputs": [
        {
          "output_type": "stream",
          "name": "stdout",
          "text": [
            "Fri Oct 18 02:17:54 2024\n"
          ]
        }
      ],
      "source": [
        "import time\n",
        "print(time.ctime())"
      ]
    },
    {
      "cell_type": "code",
      "source": [
        "time.sleep(5)\n",
        "print(time.ctime())"
      ],
      "metadata": {
        "colab": {
          "base_uri": "https://localhost:8080/"
        },
        "id": "ro7thTqtSOAp",
        "outputId": "222122a2-b275-4f30-f01c-0365ba46a3e3"
      },
      "execution_count": 29,
      "outputs": [
        {
          "output_type": "stream",
          "name": "stdout",
          "text": [
            "Fri Oct 18 02:18:00 2024\n"
          ]
        }
      ]
    },
    {
      "cell_type": "markdown",
      "source": [
        "This is **bold**\n",
        "This is *italic*\n",
        "This is ~strikethrough~."
      ],
      "metadata": {
        "id": "wIhtvlVvT3yg"
      }
    },
    {
      "cell_type": "markdown",
      "source": [
        "$\\sqrt{3x-1} + (1+x)^2$"
      ],
      "metadata": {
        "id": "5kY6aBGiUNMv"
      }
    },
    {
      "cell_type": "markdown",
      "source": [
        "$e^x=\\sum_{i=0}^\\infty \\frac{1}{i!}x^i$"
      ],
      "metadata": {
        "id": "BVorMMUoWY4t"
      }
    },
    {
      "cell_type": "markdown",
      "source": [
        "Constraint are\n",
        "\n",
        "- $3x_1 + 6x_2 + x_3 =< 28$\n",
        "\n",
        "- $7x_1 + 3x_2 + 2x_3 =< 37$\n",
        "\n",
        "- $4x_1 + 5x_2 + 2x_3 =< 19$\n",
        "\n",
        "- $x_1,x_2,x_3 >=0 $\n",
        "\n",
        "The trial vector is calculated as follow:\n",
        "\n",
        "- $u_i(t) = x_i(t) + \\beta(\\hat{x}(t) - x_i(t)) + \\beta \\sum_{k = 1}^{n_v}(x_{i1,k}(t) - x_{12,k}(t))$\n",
        "\n",
        "$f(x_1, x_2) = 20 + e - 20exp(-0.2 \\sqrt {\\frac {1}{n} (x_1^2 + x_2^2)}) - exp(\\frac {1}{n}(cos(2\\pi x_1) cos(2\\pi x_2))$\n",
        "$x ∈ [-5, 5]$\n",
        "\n",
        ">$A_{m,n} =\n",
        "\\begin{pmatrix}\n",
        "a_{1,1} & a_{1,2} & \\cdots & a_{1,n} \\\\\n",
        "a_{2,1} & a_{2,2} & \\cdots & a_{2,n} \\\\\n",
        "\\vdots & a_{m,2} & \\ddots & \\vdots \\\\\n",
        "a_{m,1} & a_{m,2} & \\cdots & a_{m,n}\n",
        "\\end{pmatrix}$"
      ],
      "metadata": {
        "id": "NvmOUzcvXfd1"
      }
    },
    {
      "cell_type": "code",
      "source": [
        "message = 'A Great Tutorial on Colab by Tutorialspoint! '\n",
        "greeting = !echo -e '{message}\\n{message}'\n",
        "greeting"
      ],
      "metadata": {
        "colab": {
          "base_uri": "https://localhost:8080/"
        },
        "id": "NxH68Jwyezhd",
        "outputId": "31a95e10-f430-4003-f848-53018ae39d31"
      },
      "execution_count": 30,
      "outputs": [
        {
          "output_type": "execute_result",
          "data": {
            "text/plain": [
              "['A Great Tutorial on Colab by Tutorialspoint! ',\n",
              " 'A Great Tutorial on Colab by Tutorialspoint! ']"
            ]
          },
          "metadata": {},
          "execution_count": 30
        }
      ]
    },
    {
      "cell_type": "code",
      "source": [
        "!mkdir -p /content/data/adult\n",
        "!wget https://archive.ics.uci.edu/dataset/2/adult -P \"/content/data/adult\"\n"
      ],
      "metadata": {
        "colab": {
          "base_uri": "https://localhost:8080/"
        },
        "id": "wrzyDY3dhtAz",
        "outputId": "01c1161e-e055-4b32-8949-4d6bfb4acfdf"
      },
      "execution_count": 31,
      "outputs": [
        {
          "output_type": "stream",
          "name": "stdout",
          "text": [
            "--2024-10-18 02:18:00--  https://archive.ics.uci.edu/dataset/2/adult\n",
            "Resolving archive.ics.uci.edu (archive.ics.uci.edu)... 128.195.10.252\n",
            "Connecting to archive.ics.uci.edu (archive.ics.uci.edu)|128.195.10.252|:443... connected.\n",
            "HTTP request sent, awaiting response... 200 OK\n",
            "Length: 323332 (316K) [text/html]\n",
            "Saving to: ‘/content/data/adult/adult’\n",
            "\n",
            "adult               100%[===================>] 315.75K  1.00MB/s    in 0.3s    \n",
            "\n",
            "2024-10-18 02:18:03 (1.00 MB/s) - ‘/content/data/adult/adult’ saved [323332/323332]\n",
            "\n"
          ]
        }
      ]
    },
    {
      "cell_type": "code",
      "source": [
        "!ls /content/data/adult/"
      ],
      "metadata": {
        "colab": {
          "base_uri": "https://localhost:8080/"
        },
        "id": "nh1CUM-QmO5_",
        "outputId": "40af982d-a8b9-48e3-9ba2-59365a27f119"
      },
      "execution_count": 32,
      "outputs": [
        {
          "output_type": "stream",
          "name": "stdout",
          "text": [
            "adult\n"
          ]
        }
      ]
    },
    {
      "cell_type": "code",
      "source": [
        "!wget https://archive.ics.uci.edu/ml/machine-learning-databases/adult/adult.data -P \"/content/data/adult\"\n"
      ],
      "metadata": {
        "colab": {
          "base_uri": "https://localhost:8080/"
        },
        "id": "h_qvZd7SmXB1",
        "outputId": "52206fa7-6c27-481d-cc36-6f7e45ff8521"
      },
      "execution_count": 33,
      "outputs": [
        {
          "output_type": "stream",
          "name": "stdout",
          "text": [
            "--2024-10-18 02:18:03--  https://archive.ics.uci.edu/ml/machine-learning-databases/adult/adult.data\n",
            "Resolving archive.ics.uci.edu (archive.ics.uci.edu)... 128.195.10.252\n",
            "Connecting to archive.ics.uci.edu (archive.ics.uci.edu)|128.195.10.252|:443... connected.\n",
            "HTTP request sent, awaiting response... 200 OK\n",
            "Length: unspecified\n",
            "Saving to: ‘/content/data/adult/adult.data’\n",
            "\n",
            "adult.data              [   <=>              ]   3.79M  7.48MB/s    in 0.5s    \n",
            "\n",
            "2024-10-18 02:18:04 (7.48 MB/s) - ‘/content/data/adult/adult.data’ saved [3974305]\n",
            "\n"
          ]
        }
      ]
    },
    {
      "cell_type": "code",
      "source": [
        "import pandas as pd\n",
        "\n",
        "# Load the dataset\n",
        "df = pd.read_csv('/content/data/adult/adult.data', header=None)\n",
        "\n",
        "# Display the first few rows\n",
        "df.head(5)"
      ],
      "metadata": {
        "colab": {
          "base_uri": "https://localhost:8080/",
          "height": 206
        },
        "id": "NTx2QddfjDlI",
        "outputId": "0b5af26a-3fd2-4131-926d-a5318dd1d59b"
      },
      "execution_count": 34,
      "outputs": [
        {
          "output_type": "execute_result",
          "data": {
            "text/plain": [
              "   0                  1       2           3   4                    5   \\\n",
              "0  39          State-gov   77516   Bachelors  13        Never-married   \n",
              "1  50   Self-emp-not-inc   83311   Bachelors  13   Married-civ-spouse   \n",
              "2  38            Private  215646     HS-grad   9             Divorced   \n",
              "3  53            Private  234721        11th   7   Married-civ-spouse   \n",
              "4  28            Private  338409   Bachelors  13   Married-civ-spouse   \n",
              "\n",
              "                   6               7       8        9     10  11  12  \\\n",
              "0        Adm-clerical   Not-in-family   White     Male  2174   0  40   \n",
              "1     Exec-managerial         Husband   White     Male     0   0  13   \n",
              "2   Handlers-cleaners   Not-in-family   White     Male     0   0  40   \n",
              "3   Handlers-cleaners         Husband   Black     Male     0   0  40   \n",
              "4      Prof-specialty            Wife   Black   Female     0   0  40   \n",
              "\n",
              "               13      14  \n",
              "0   United-States   <=50K  \n",
              "1   United-States   <=50K  \n",
              "2   United-States   <=50K  \n",
              "3   United-States   <=50K  \n",
              "4            Cuba   <=50K  "
            ],
            "text/html": [
              "\n",
              "  <div id=\"df-1e1ed23d-9ddd-4e17-b6ad-6779b65d9c30\" class=\"colab-df-container\">\n",
              "    <div>\n",
              "<style scoped>\n",
              "    .dataframe tbody tr th:only-of-type {\n",
              "        vertical-align: middle;\n",
              "    }\n",
              "\n",
              "    .dataframe tbody tr th {\n",
              "        vertical-align: top;\n",
              "    }\n",
              "\n",
              "    .dataframe thead th {\n",
              "        text-align: right;\n",
              "    }\n",
              "</style>\n",
              "<table border=\"1\" class=\"dataframe\">\n",
              "  <thead>\n",
              "    <tr style=\"text-align: right;\">\n",
              "      <th></th>\n",
              "      <th>0</th>\n",
              "      <th>1</th>\n",
              "      <th>2</th>\n",
              "      <th>3</th>\n",
              "      <th>4</th>\n",
              "      <th>5</th>\n",
              "      <th>6</th>\n",
              "      <th>7</th>\n",
              "      <th>8</th>\n",
              "      <th>9</th>\n",
              "      <th>10</th>\n",
              "      <th>11</th>\n",
              "      <th>12</th>\n",
              "      <th>13</th>\n",
              "      <th>14</th>\n",
              "    </tr>\n",
              "  </thead>\n",
              "  <tbody>\n",
              "    <tr>\n",
              "      <th>0</th>\n",
              "      <td>39</td>\n",
              "      <td>State-gov</td>\n",
              "      <td>77516</td>\n",
              "      <td>Bachelors</td>\n",
              "      <td>13</td>\n",
              "      <td>Never-married</td>\n",
              "      <td>Adm-clerical</td>\n",
              "      <td>Not-in-family</td>\n",
              "      <td>White</td>\n",
              "      <td>Male</td>\n",
              "      <td>2174</td>\n",
              "      <td>0</td>\n",
              "      <td>40</td>\n",
              "      <td>United-States</td>\n",
              "      <td>&lt;=50K</td>\n",
              "    </tr>\n",
              "    <tr>\n",
              "      <th>1</th>\n",
              "      <td>50</td>\n",
              "      <td>Self-emp-not-inc</td>\n",
              "      <td>83311</td>\n",
              "      <td>Bachelors</td>\n",
              "      <td>13</td>\n",
              "      <td>Married-civ-spouse</td>\n",
              "      <td>Exec-managerial</td>\n",
              "      <td>Husband</td>\n",
              "      <td>White</td>\n",
              "      <td>Male</td>\n",
              "      <td>0</td>\n",
              "      <td>0</td>\n",
              "      <td>13</td>\n",
              "      <td>United-States</td>\n",
              "      <td>&lt;=50K</td>\n",
              "    </tr>\n",
              "    <tr>\n",
              "      <th>2</th>\n",
              "      <td>38</td>\n",
              "      <td>Private</td>\n",
              "      <td>215646</td>\n",
              "      <td>HS-grad</td>\n",
              "      <td>9</td>\n",
              "      <td>Divorced</td>\n",
              "      <td>Handlers-cleaners</td>\n",
              "      <td>Not-in-family</td>\n",
              "      <td>White</td>\n",
              "      <td>Male</td>\n",
              "      <td>0</td>\n",
              "      <td>0</td>\n",
              "      <td>40</td>\n",
              "      <td>United-States</td>\n",
              "      <td>&lt;=50K</td>\n",
              "    </tr>\n",
              "    <tr>\n",
              "      <th>3</th>\n",
              "      <td>53</td>\n",
              "      <td>Private</td>\n",
              "      <td>234721</td>\n",
              "      <td>11th</td>\n",
              "      <td>7</td>\n",
              "      <td>Married-civ-spouse</td>\n",
              "      <td>Handlers-cleaners</td>\n",
              "      <td>Husband</td>\n",
              "      <td>Black</td>\n",
              "      <td>Male</td>\n",
              "      <td>0</td>\n",
              "      <td>0</td>\n",
              "      <td>40</td>\n",
              "      <td>United-States</td>\n",
              "      <td>&lt;=50K</td>\n",
              "    </tr>\n",
              "    <tr>\n",
              "      <th>4</th>\n",
              "      <td>28</td>\n",
              "      <td>Private</td>\n",
              "      <td>338409</td>\n",
              "      <td>Bachelors</td>\n",
              "      <td>13</td>\n",
              "      <td>Married-civ-spouse</td>\n",
              "      <td>Prof-specialty</td>\n",
              "      <td>Wife</td>\n",
              "      <td>Black</td>\n",
              "      <td>Female</td>\n",
              "      <td>0</td>\n",
              "      <td>0</td>\n",
              "      <td>40</td>\n",
              "      <td>Cuba</td>\n",
              "      <td>&lt;=50K</td>\n",
              "    </tr>\n",
              "  </tbody>\n",
              "</table>\n",
              "</div>\n",
              "    <div class=\"colab-df-buttons\">\n",
              "\n",
              "  <div class=\"colab-df-container\">\n",
              "    <button class=\"colab-df-convert\" onclick=\"convertToInteractive('df-1e1ed23d-9ddd-4e17-b6ad-6779b65d9c30')\"\n",
              "            title=\"Convert this dataframe to an interactive table.\"\n",
              "            style=\"display:none;\">\n",
              "\n",
              "  <svg xmlns=\"http://www.w3.org/2000/svg\" height=\"24px\" viewBox=\"0 -960 960 960\">\n",
              "    <path d=\"M120-120v-720h720v720H120Zm60-500h600v-160H180v160Zm220 220h160v-160H400v160Zm0 220h160v-160H400v160ZM180-400h160v-160H180v160Zm440 0h160v-160H620v160ZM180-180h160v-160H180v160Zm440 0h160v-160H620v160Z\"/>\n",
              "  </svg>\n",
              "    </button>\n",
              "\n",
              "  <style>\n",
              "    .colab-df-container {\n",
              "      display:flex;\n",
              "      gap: 12px;\n",
              "    }\n",
              "\n",
              "    .colab-df-convert {\n",
              "      background-color: #E8F0FE;\n",
              "      border: none;\n",
              "      border-radius: 50%;\n",
              "      cursor: pointer;\n",
              "      display: none;\n",
              "      fill: #1967D2;\n",
              "      height: 32px;\n",
              "      padding: 0 0 0 0;\n",
              "      width: 32px;\n",
              "    }\n",
              "\n",
              "    .colab-df-convert:hover {\n",
              "      background-color: #E2EBFA;\n",
              "      box-shadow: 0px 1px 2px rgba(60, 64, 67, 0.3), 0px 1px 3px 1px rgba(60, 64, 67, 0.15);\n",
              "      fill: #174EA6;\n",
              "    }\n",
              "\n",
              "    .colab-df-buttons div {\n",
              "      margin-bottom: 4px;\n",
              "    }\n",
              "\n",
              "    [theme=dark] .colab-df-convert {\n",
              "      background-color: #3B4455;\n",
              "      fill: #D2E3FC;\n",
              "    }\n",
              "\n",
              "    [theme=dark] .colab-df-convert:hover {\n",
              "      background-color: #434B5C;\n",
              "      box-shadow: 0px 1px 3px 1px rgba(0, 0, 0, 0.15);\n",
              "      filter: drop-shadow(0px 1px 2px rgba(0, 0, 0, 0.3));\n",
              "      fill: #FFFFFF;\n",
              "    }\n",
              "  </style>\n",
              "\n",
              "    <script>\n",
              "      const buttonEl =\n",
              "        document.querySelector('#df-1e1ed23d-9ddd-4e17-b6ad-6779b65d9c30 button.colab-df-convert');\n",
              "      buttonEl.style.display =\n",
              "        google.colab.kernel.accessAllowed ? 'block' : 'none';\n",
              "\n",
              "      async function convertToInteractive(key) {\n",
              "        const element = document.querySelector('#df-1e1ed23d-9ddd-4e17-b6ad-6779b65d9c30');\n",
              "        const dataTable =\n",
              "          await google.colab.kernel.invokeFunction('convertToInteractive',\n",
              "                                                    [key], {});\n",
              "        if (!dataTable) return;\n",
              "\n",
              "        const docLinkHtml = 'Like what you see? Visit the ' +\n",
              "          '<a target=\"_blank\" href=https://colab.research.google.com/notebooks/data_table.ipynb>data table notebook</a>'\n",
              "          + ' to learn more about interactive tables.';\n",
              "        element.innerHTML = '';\n",
              "        dataTable['output_type'] = 'display_data';\n",
              "        await google.colab.output.renderOutput(dataTable, element);\n",
              "        const docLink = document.createElement('div');\n",
              "        docLink.innerHTML = docLinkHtml;\n",
              "        element.appendChild(docLink);\n",
              "      }\n",
              "    </script>\n",
              "  </div>\n",
              "\n",
              "\n",
              "<div id=\"df-d067192b-bb53-4583-b74b-c3d0f47b1239\">\n",
              "  <button class=\"colab-df-quickchart\" onclick=\"quickchart('df-d067192b-bb53-4583-b74b-c3d0f47b1239')\"\n",
              "            title=\"Suggest charts\"\n",
              "            style=\"display:none;\">\n",
              "\n",
              "<svg xmlns=\"http://www.w3.org/2000/svg\" height=\"24px\"viewBox=\"0 0 24 24\"\n",
              "     width=\"24px\">\n",
              "    <g>\n",
              "        <path d=\"M19 3H5c-1.1 0-2 .9-2 2v14c0 1.1.9 2 2 2h14c1.1 0 2-.9 2-2V5c0-1.1-.9-2-2-2zM9 17H7v-7h2v7zm4 0h-2V7h2v10zm4 0h-2v-4h2v4z\"/>\n",
              "    </g>\n",
              "</svg>\n",
              "  </button>\n",
              "\n",
              "<style>\n",
              "  .colab-df-quickchart {\n",
              "      --bg-color: #E8F0FE;\n",
              "      --fill-color: #1967D2;\n",
              "      --hover-bg-color: #E2EBFA;\n",
              "      --hover-fill-color: #174EA6;\n",
              "      --disabled-fill-color: #AAA;\n",
              "      --disabled-bg-color: #DDD;\n",
              "  }\n",
              "\n",
              "  [theme=dark] .colab-df-quickchart {\n",
              "      --bg-color: #3B4455;\n",
              "      --fill-color: #D2E3FC;\n",
              "      --hover-bg-color: #434B5C;\n",
              "      --hover-fill-color: #FFFFFF;\n",
              "      --disabled-bg-color: #3B4455;\n",
              "      --disabled-fill-color: #666;\n",
              "  }\n",
              "\n",
              "  .colab-df-quickchart {\n",
              "    background-color: var(--bg-color);\n",
              "    border: none;\n",
              "    border-radius: 50%;\n",
              "    cursor: pointer;\n",
              "    display: none;\n",
              "    fill: var(--fill-color);\n",
              "    height: 32px;\n",
              "    padding: 0;\n",
              "    width: 32px;\n",
              "  }\n",
              "\n",
              "  .colab-df-quickchart:hover {\n",
              "    background-color: var(--hover-bg-color);\n",
              "    box-shadow: 0 1px 2px rgba(60, 64, 67, 0.3), 0 1px 3px 1px rgba(60, 64, 67, 0.15);\n",
              "    fill: var(--button-hover-fill-color);\n",
              "  }\n",
              "\n",
              "  .colab-df-quickchart-complete:disabled,\n",
              "  .colab-df-quickchart-complete:disabled:hover {\n",
              "    background-color: var(--disabled-bg-color);\n",
              "    fill: var(--disabled-fill-color);\n",
              "    box-shadow: none;\n",
              "  }\n",
              "\n",
              "  .colab-df-spinner {\n",
              "    border: 2px solid var(--fill-color);\n",
              "    border-color: transparent;\n",
              "    border-bottom-color: var(--fill-color);\n",
              "    animation:\n",
              "      spin 1s steps(1) infinite;\n",
              "  }\n",
              "\n",
              "  @keyframes spin {\n",
              "    0% {\n",
              "      border-color: transparent;\n",
              "      border-bottom-color: var(--fill-color);\n",
              "      border-left-color: var(--fill-color);\n",
              "    }\n",
              "    20% {\n",
              "      border-color: transparent;\n",
              "      border-left-color: var(--fill-color);\n",
              "      border-top-color: var(--fill-color);\n",
              "    }\n",
              "    30% {\n",
              "      border-color: transparent;\n",
              "      border-left-color: var(--fill-color);\n",
              "      border-top-color: var(--fill-color);\n",
              "      border-right-color: var(--fill-color);\n",
              "    }\n",
              "    40% {\n",
              "      border-color: transparent;\n",
              "      border-right-color: var(--fill-color);\n",
              "      border-top-color: var(--fill-color);\n",
              "    }\n",
              "    60% {\n",
              "      border-color: transparent;\n",
              "      border-right-color: var(--fill-color);\n",
              "    }\n",
              "    80% {\n",
              "      border-color: transparent;\n",
              "      border-right-color: var(--fill-color);\n",
              "      border-bottom-color: var(--fill-color);\n",
              "    }\n",
              "    90% {\n",
              "      border-color: transparent;\n",
              "      border-bottom-color: var(--fill-color);\n",
              "    }\n",
              "  }\n",
              "</style>\n",
              "\n",
              "  <script>\n",
              "    async function quickchart(key) {\n",
              "      const quickchartButtonEl =\n",
              "        document.querySelector('#' + key + ' button');\n",
              "      quickchartButtonEl.disabled = true;  // To prevent multiple clicks.\n",
              "      quickchartButtonEl.classList.add('colab-df-spinner');\n",
              "      try {\n",
              "        const charts = await google.colab.kernel.invokeFunction(\n",
              "            'suggestCharts', [key], {});\n",
              "      } catch (error) {\n",
              "        console.error('Error during call to suggestCharts:', error);\n",
              "      }\n",
              "      quickchartButtonEl.classList.remove('colab-df-spinner');\n",
              "      quickchartButtonEl.classList.add('colab-df-quickchart-complete');\n",
              "    }\n",
              "    (() => {\n",
              "      let quickchartButtonEl =\n",
              "        document.querySelector('#df-d067192b-bb53-4583-b74b-c3d0f47b1239 button');\n",
              "      quickchartButtonEl.style.display =\n",
              "        google.colab.kernel.accessAllowed ? 'block' : 'none';\n",
              "    })();\n",
              "  </script>\n",
              "</div>\n",
              "\n",
              "    </div>\n",
              "  </div>\n"
            ],
            "application/vnd.google.colaboratory.intrinsic+json": {
              "type": "dataframe",
              "variable_name": "df",
              "summary": "{\n  \"name\": \"df\",\n  \"rows\": 32561,\n  \"fields\": [\n    {\n      \"column\": 0,\n      \"properties\": {\n        \"dtype\": \"number\",\n        \"std\": 13,\n        \"min\": 17,\n        \"max\": 90,\n        \"num_unique_values\": 73,\n        \"samples\": [\n          28,\n          73,\n          35\n        ],\n        \"semantic_type\": \"\",\n        \"description\": \"\"\n      }\n    },\n    {\n      \"column\": 1,\n      \"properties\": {\n        \"dtype\": \"category\",\n        \"num_unique_values\": 9,\n        \"samples\": [\n          \" Without-pay\",\n          \" Self-emp-not-inc\",\n          \" ?\"\n        ],\n        \"semantic_type\": \"\",\n        \"description\": \"\"\n      }\n    },\n    {\n      \"column\": 2,\n      \"properties\": {\n        \"dtype\": \"number\",\n        \"std\": 105549,\n        \"min\": 12285,\n        \"max\": 1484705,\n        \"num_unique_values\": 21648,\n        \"samples\": [\n          128485,\n          469907,\n          235951\n        ],\n        \"semantic_type\": \"\",\n        \"description\": \"\"\n      }\n    },\n    {\n      \"column\": 3,\n      \"properties\": {\n        \"dtype\": \"category\",\n        \"num_unique_values\": 16,\n        \"samples\": [\n          \" Bachelors\",\n          \" HS-grad\",\n          \" Some-college\"\n        ],\n        \"semantic_type\": \"\",\n        \"description\": \"\"\n      }\n    },\n    {\n      \"column\": 4,\n      \"properties\": {\n        \"dtype\": \"number\",\n        \"std\": 2,\n        \"min\": 1,\n        \"max\": 16,\n        \"num_unique_values\": 16,\n        \"samples\": [\n          13,\n          9,\n          10\n        ],\n        \"semantic_type\": \"\",\n        \"description\": \"\"\n      }\n    },\n    {\n      \"column\": 5,\n      \"properties\": {\n        \"dtype\": \"category\",\n        \"num_unique_values\": 7,\n        \"samples\": [\n          \" Never-married\",\n          \" Married-civ-spouse\",\n          \" Married-AF-spouse\"\n        ],\n        \"semantic_type\": \"\",\n        \"description\": \"\"\n      }\n    },\n    {\n      \"column\": 6,\n      \"properties\": {\n        \"dtype\": \"category\",\n        \"num_unique_values\": 15,\n        \"samples\": [\n          \" Machine-op-inspct\",\n          \" ?\",\n          \" Adm-clerical\"\n        ],\n        \"semantic_type\": \"\",\n        \"description\": \"\"\n      }\n    },\n    {\n      \"column\": 7,\n      \"properties\": {\n        \"dtype\": \"category\",\n        \"num_unique_values\": 6,\n        \"samples\": [\n          \" Not-in-family\",\n          \" Husband\",\n          \" Other-relative\"\n        ],\n        \"semantic_type\": \"\",\n        \"description\": \"\"\n      }\n    },\n    {\n      \"column\": 8,\n      \"properties\": {\n        \"dtype\": \"category\",\n        \"num_unique_values\": 5,\n        \"samples\": [\n          \" Black\",\n          \" Other\",\n          \" Asian-Pac-Islander\"\n        ],\n        \"semantic_type\": \"\",\n        \"description\": \"\"\n      }\n    },\n    {\n      \"column\": 9,\n      \"properties\": {\n        \"dtype\": \"category\",\n        \"num_unique_values\": 2,\n        \"samples\": [\n          \" Female\",\n          \" Male\"\n        ],\n        \"semantic_type\": \"\",\n        \"description\": \"\"\n      }\n    },\n    {\n      \"column\": 10,\n      \"properties\": {\n        \"dtype\": \"number\",\n        \"std\": 7385,\n        \"min\": 0,\n        \"max\": 99999,\n        \"num_unique_values\": 119,\n        \"samples\": [\n          3781,\n          15831\n        ],\n        \"semantic_type\": \"\",\n        \"description\": \"\"\n      }\n    },\n    {\n      \"column\": 11,\n      \"properties\": {\n        \"dtype\": \"number\",\n        \"std\": 402,\n        \"min\": 0,\n        \"max\": 4356,\n        \"num_unique_values\": 92,\n        \"samples\": [\n          419,\n          2051\n        ],\n        \"semantic_type\": \"\",\n        \"description\": \"\"\n      }\n    },\n    {\n      \"column\": 12,\n      \"properties\": {\n        \"dtype\": \"number\",\n        \"std\": 12,\n        \"min\": 1,\n        \"max\": 99,\n        \"num_unique_values\": 94,\n        \"samples\": [\n          6,\n          22\n        ],\n        \"semantic_type\": \"\",\n        \"description\": \"\"\n      }\n    },\n    {\n      \"column\": 13,\n      \"properties\": {\n        \"dtype\": \"category\",\n        \"num_unique_values\": 42,\n        \"samples\": [\n          \" El-Salvador\",\n          \" Philippines\"\n        ],\n        \"semantic_type\": \"\",\n        \"description\": \"\"\n      }\n    },\n    {\n      \"column\": 14,\n      \"properties\": {\n        \"dtype\": \"category\",\n        \"num_unique_values\": 2,\n        \"samples\": [\n          \" >50K\",\n          \" <=50K\"\n        ],\n        \"semantic_type\": \"\",\n        \"description\": \"\"\n      }\n    }\n  ]\n}"
            }
          },
          "metadata": {},
          "execution_count": 34
        }
      ]
    },
    {
      "cell_type": "code",
      "source": [
        "!git clone https://github.com/wxs/keras-mnist-tutorial.git"
      ],
      "metadata": {
        "colab": {
          "base_uri": "https://localhost:8080/"
        },
        "id": "Cm_fzuSqrF1i",
        "outputId": "65a13e1c-9395-4441-931c-69754b8159e9"
      },
      "execution_count": 35,
      "outputs": [
        {
          "output_type": "stream",
          "name": "stdout",
          "text": [
            "Cloning into 'keras-mnist-tutorial'...\n",
            "remote: Enumerating objects: 26, done.\u001b[K\n",
            "remote: Total 26 (delta 0), reused 0 (delta 0), pack-reused 26 (from 1)\u001b[K\n",
            "Receiving objects: 100% (26/26), 341.08 KiB | 6.32 MiB/s, done.\n",
            "Resolving deltas: 100% (12/12), done.\n"
          ]
        }
      ]
    },
    {
      "cell_type": "code",
      "source": [
        "# Run this cell to mount your Google Drive\n",
        "from google.colab import drive\n",
        "drive.mount('/content/drive')"
      ],
      "metadata": {
        "colab": {
          "base_uri": "https://localhost:8080/"
        },
        "id": "B6zryUJvshrU",
        "outputId": "7432af5b-c53e-4064-b1a9-5bd4e6b54d2c"
      },
      "execution_count": 36,
      "outputs": [
        {
          "output_type": "stream",
          "name": "stdout",
          "text": [
            "Drive already mounted at /content/drive; to attempt to forcibly remount, call drive.mount(\"/content/drive\", force_remount=True).\n"
          ]
        }
      ]
    },
    {
      "cell_type": "code",
      "source": [
        "!ls \"/content/drive/My Drive/Colab Notebooks\""
      ],
      "metadata": {
        "colab": {
          "base_uri": "https://localhost:8080/"
        },
        "id": "MSUczEeAuBLT",
        "outputId": "29182c03-602a-425d-d079-1eeb1ed1cf6a"
      },
      "execution_count": 37,
      "outputs": [
        {
          "output_type": "stream",
          "name": "stdout",
          "text": [
            "'Copy of MyFirstColabNotebook (1).ipynb'   MyFirstColabNotebook.ipynb\n",
            "'Copy of MyFirstColabNotebook.ipynb'\t   Untitled0.ipynb\n"
          ]
        }
      ]
    },
    {
      "cell_type": "code",
      "source": [
        "!python3 \"/content/drive/My Drive/Colab Notebooks/MyFirstColabNotebook.ipynb\""
      ],
      "metadata": {
        "id": "GVEpCn0euMEZ",
        "colab": {
          "base_uri": "https://localhost:8080/"
        },
        "outputId": "48c94054-b69e-49a9-e655-baf1d82f78cb"
      },
      "execution_count": 38,
      "outputs": [
        {
          "output_type": "stream",
          "name": "stdout",
          "text": [
            "Traceback (most recent call last):\n",
            "  File \"/content/drive/My Drive/Colab Notebooks/MyFirstColabNotebook.ipynb\", line 1, in <module>\n",
            "    {\"nbformat\":4,\"nbformat_minor\":0,\"metadata\":{\"colab\":{\"provenance\":[],\"mount_file_id\":\"1vzFpexGsw07nyGEwFNzc1dLrgE-mxy2-\",\"authorship_tag\":\"ABX9TyPD7V91YidOijkvydZSQYfG\"},\"kernelspec\":{\"name\":\"python3\",\"display_name\":\"Python 3\"},\"language_info\":{\"name\":\"python\"}},\"cells\":[{\"cell_type\":\"code\",\"execution_count\":null,\"metadata\":{\"colab\":{\"base_uri\":\"https://localhost:8080/\"},\"id\":\"tUq5dPUvRqYR\",\"executionInfo\":{\"status\":\"ok\",\"timestamp\":1729148734439,\"user_tz\":-480,\"elapsed\":437,\"user\":{\"displayName\":\"Ain Aqilah Basirun\",\"userId\":\"00041838481199485590\"}},\"outputId\":\"d022a119-30f8-44d4-8f11-591ed9a1ba4c\"},\"outputs\":[{\"output_type\":\"stream\",\"name\":\"stdout\",\"text\":[\"Thu Oct 17 07:05:35 2024\\n\"]}],\"source\":[\"import time\\n\",\"print(time.ctime())\"]},{\"cell_type\":\"code\",\"source\":[\"time.sleep(5)\\n\",\"print(time.ctime())\"],\"metadata\":{\"colab\":{\"base_uri\":\"https://localhost:8080/\"},\"id\":\"ro7thTqtSOAp\",\"executionInfo\":{\"status\":\"ok\",\"timestamp\":1729148739895,\"user_tz\":-480,\"elapsed\":5113,\"user\":{\"displayName\":\"Ain Aqilah Basirun\",\"userId\":\"00041838481199485590\"}},\"outputId\":\"c4295326-3e8e-4429-bccb-eba676ac0379\"},\"execution_count\":null,\"outputs\":[{\"output_type\":\"stream\",\"name\":\"stdout\",\"text\":[\"Thu Oct 17 07:05:40 2024\\n\"]}]},{\"cell_type\":\"markdown\",\"source\":[\"This is **bold**\\n\",\"This is *italic*\\n\",\"This is ~strikethrough~.\"],\"metadata\":{\"id\":\"wIhtvlVvT3yg\"}},{\"cell_type\":\"markdown\",\"source\":[\"$\\\\sqrt{3x-1} + (1+x)^2$\"],\"metadata\":{\"id\":\"5kY6aBGiUNMv\"}},{\"cell_type\":\"markdown\",\"source\":[\"$e^x=\\\\sum_{i=0}^\\\\infty \\\\frac{1}{i!}x^i$\"],\"metadata\":{\"id\":\"BVorMMUoWY4t\"}},{\"cell_type\":\"markdown\",\"source\":[\"Constraint are\\n\",\"\\n\",\"- $3x_1 + 6x_2 + x_3 =< 28$\\n\",\"\\n\",\"- $7x_1 + 3x_2 + 2x_3 =< 37$\\n\",\"\\n\",\"- $4x_1 + 5x_2 + 2x_3 =< 19$\\n\",\"\\n\",\"- $x_1,x_2,x_3 >=0 $\\n\",\"\\n\",\"The trial vector is calculated as follow:\\n\",\"\\n\",\"- $u_i(t) = x_i(t) + \\\\beta(\\\\hat{x}(t) - x_i(t)) + \\\\beta \\\\sum_{k = 1}^{n_v}(x_{i1,k}(t) - x_{12,k}(t))$\\n\",\"\\n\",\"$f(x_1, x_2) = 20 + e - 20exp(-0.2 \\\\sqrt {\\\\frac {1}{n} (x_1^2 + x_2^2)}) - exp(\\\\frac {1}{n}(cos(2\\\\pi x_1) cos(2\\\\pi x_2))$\\n\",\"$x ∈ [-5, 5]$\\n\",\"\\n\",\">$A_{m,n} =\\n\",\"\\\\begin{pmatrix}\\n\",\"a_{1,1} & a_{1,2} & \\\\cdots & a_{1,n} \\\\\\\\\\n\",\"a_{2,1} & a_{2,2} & \\\\cdots & a_{2,n} \\\\\\\\\\n\",\"\\\\vdots & a_{m,2} & \\\\ddots & \\\\vdots \\\\\\\\\\n\",\"a_{m,1} & a_{m,2} & \\\\cdots & a_{m,n}\\n\",\"\\\\end{pmatrix}$\"],\"metadata\":{\"id\":\"NvmOUzcvXfd1\"}},{\"cell_type\":\"code\",\"source\":[\"message = 'A Great Tutorial on Colab by Tutorialspoint! '\\n\",\"greeting = !echo -e '{message}\\\\n{message}'\\n\",\"greeting\"],\"metadata\":{\"colab\":{\"base_uri\":\"https://localhost:8080/\"},\"id\":\"NxH68Jwyezhd\",\"executionInfo\":{\"status\":\"ok\",\"timestamp\":1729152290843,\"user_tz\":-480,\"elapsed\":345,\"user\":{\"displayName\":\"Ain Aqilah Basirun\",\"userId\":\"00041838481199485590\"}},\"outputId\":\"285cba22-411c-4f96-9f6c-93d79c5c6602\"},\"execution_count\":null,\"outputs\":[{\"output_type\":\"execute_result\",\"data\":{\"text/plain\":[\"['A Great Tutorial on Colab by Tutorialspoint! ',\\n\",\" 'A Great Tutorial on Colab by Tutorialspoint! ']\"]},\"metadata\":{},\"execution_count\":10}]},{\"cell_type\":\"code\",\"source\":[\"!mkdir -p /content/data/adult\\n\",\"!wget https://archive.ics.uci.edu/dataset/2/adult -P \\\"/content/data/adult\\\"\\n\"],\"metadata\":{\"colab\":{\"base_uri\":\"https://localhost:8080/\"},\"id\":\"wrzyDY3dhtAz\",\"executionInfo\":{\"status\":\"ok\",\"timestamp\":1729152932930,\"user_tz\":-480,\"elapsed\":1698,\"user\":{\"displayName\":\"Ain Aqilah Basirun\",\"userId\":\"00041838481199485590\"}},\"outputId\":\"41c74e6d-3eb2-4eed-88bf-4d744e7d45f1\"},\"execution_count\":null,\"outputs\":[{\"output_type\":\"stream\",\"name\":\"stdout\",\"text\":[\"--2024-10-17 08:15:32--  https://archive.ics.uci.edu/dataset/2/adult\\n\",\"Resolving archive.ics.uci.edu (archive.ics.uci.edu)... 128.195.10.252\\n\",\"Connecting to archive.ics.uci.edu (archive.ics.uci.edu)|128.195.10.252|:443... connected.\\n\",\"HTTP request sent, awaiting response... 200 OK\\n\",\"Length: 323332 (316K) [text/html]\\n\",\"Saving to: ‘/content/data/adult/adult’\\n\",\"\\n\",\"adult               100%[===================>] 315.75K  1.27MB/s    in 0.2s    \\n\",\"\\n\",\"2024-10-17 08:15:33 (1.27 MB/s) - ‘/content/data/adult/adult’ saved [323332/323332]\\n\",\"\\n\"]}]},{\"cell_type\":\"code\",\"source\":[\"!ls /content/data/adult/\"],\"metadata\":{\"colab\":{\"base_uri\":\"https://localhost:8080/\"},\"id\":\"nh1CUM-QmO5_\",\"executionInfo\":{\"status\":\"ok\",\"timestamp\":1729153793963,\"user_tz\":-480,\"elapsed\":373,\"user\":{\"displayName\":\"Ain Aqilah Basirun\",\"userId\":\"00041838481199485590\"}},\"outputId\":\"888b02cc-6116-4a0e-c7cd-3ded8f4cfd95\"},\"execution_count\":null,\"outputs\":[{\"output_type\":\"stream\",\"name\":\"stdout\",\"text\":[\"adult\\n\"]}]},{\"cell_type\":\"code\",\"source\":[\"!wget https://archive.ics.uci.edu/ml/machine-learning-databases/adult/adult.data -P \\\"/content/data/adult\\\"\\n\"],\"metadata\":{\"colab\":{\"base_uri\":\"https://localhost:8080/\"},\"id\":\"h_qvZd7SmXB1\",\"executionInfo\":{\"status\":\"ok\",\"timestamp\":1729153827429,\"user_tz\":-480,\"elapsed\":1074,\"user\":{\"displayName\":\"Ain Aqilah Basirun\",\"userId\":\"00041838481199485590\"}},\"outputId\":\"9da3b34d-2091-4687-d5af-3476602a3abc\"},\"execution_count\":null,\"outputs\":[{\"output_type\":\"stream\",\"name\":\"stdout\",\"text\":[\"--2024-10-17 08:30:27--  https://archive.ics.uci.edu/ml/machine-learning-databases/adult/adult.data\\n\",\"Resolving archive.ics.uci.edu (archive.ics.uci.edu)... 128.195.10.252\\n\",\"Connecting to archive.ics.uci.edu (archive.ics.uci.edu)|128.195.10.252|:443... connected.\\n\",\"HTTP request sent, awaiting response... 200 OK\\n\",\"Length: unspecified\\n\",\"Saving to: ‘/content/data/adult/adult.data’\\n\",\"\\n\",\"adult.data              [  <=>               ]   3.79M  9.48MB/s    in 0.4s    \\n\",\"\\n\",\"2024-10-17 08:30:28 (9.48 MB/s) - ‘/content/data/adult/adult.data’ saved [3974305]\\n\",\"\\n\"]}]},{\"cell_type\":\"code\",\"source\":[\"import pandas as pd\\n\",\"\\n\",\"# Load the dataset\\n\",\"df = pd.read_csv('/content/data/adult/adult.data', header=None)\\n\",\"\\n\",\"# Display the first few rows\\n\",\"df.head(5)\"],\"metadata\":{\"colab\":{\"base_uri\":\"https://localhost:8080/\",\"height\":206},\"id\":\"NTx2QddfjDlI\",\"executionInfo\":{\"status\":\"ok\",\"timestamp\":1729153839255,\"user_tz\":-480,\"elapsed\":397,\"user\":{\"displayName\":\"Ain Aqilah Basirun\",\"userId\":\"00041838481199485590\"}},\"outputId\":\"59954bb1-84a6-4db2-97c1-d8722190f59a\"},\"execution_count\":null,\"outputs\":[{\"output_type\":\"execute_result\",\"data\":{\"text/plain\":[\"   0                  1       2           3   4                    5   \\\\\\n\",\"0  39          State-gov   77516   Bachelors  13        Never-married   \\n\",\"1  50   Self-emp-not-inc   83311   Bachelors  13   Married-civ-spouse   \\n\",\"2  38            Private  215646     HS-grad   9             Divorced   \\n\",\"3  53            Private  234721        11th   7   Married-civ-spouse   \\n\",\"4  28            Private  338409   Bachelors  13   Married-civ-spouse   \\n\",\"\\n\",\"                   6               7       8        9     10  11  12  \\\\\\n\",\"0        Adm-clerical   Not-in-family   White     Male  2174   0  40   \\n\",\"1     Exec-managerial         Husband   White     Male     0   0  13   \\n\",\"2   Handlers-cleaners   Not-in-family   White     Male     0   0  40   \\n\",\"3   Handlers-cleaners         Husband   Black     Male     0   0  40   \\n\",\"4      Prof-specialty            Wife   Black   Female     0   0  40   \\n\",\"\\n\",\"               13      14  \\n\",\"0   United-States   <=50K  \\n\",\"1   United-States   <=50K  \\n\",\"2   United-States   <=50K  \\n\",\"3   United-States   <=50K  \\n\",\"4            Cuba   <=50K  \"],\"text/html\":[\"\\n\",\"  <div id=\\\"df-06a8274d-b30e-420c-830c-9591be0c8311\\\" class=\\\"colab-df-container\\\">\\n\",\"    <div>\\n\",\"<style scoped>\\n\",\"    .dataframe tbody tr th:only-of-type {\\n\",\"        vertical-align: middle;\\n\",\"    }\\n\",\"\\n\",\"    .dataframe tbody tr th {\\n\",\"        vertical-align: top;\\n\",\"    }\\n\",\"\\n\",\"    .dataframe thead th {\\n\",\"        text-align: right;\\n\",\"    }\\n\",\"</style>\\n\",\"<table border=\\\"1\\\" class=\\\"dataframe\\\">\\n\",\"  <thead>\\n\",\"    <tr style=\\\"text-align: right;\\\">\\n\",\"      <th></th>\\n\",\"      <th>0</th>\\n\",\"      <th>1</th>\\n\",\"      <th>2</th>\\n\",\"      <th>3</th>\\n\",\"      <th>4</th>\\n\",\"      <th>5</th>\\n\",\"      <th>6</th>\\n\",\"      <th>7</th>\\n\",\"      <th>8</th>\\n\",\"      <th>9</th>\\n\",\"      <th>10</th>\\n\",\"      <th>11</th>\\n\",\"      <th>12</th>\\n\",\"      <th>13</th>\\n\",\"      <th>14</th>\\n\",\"    </tr>\\n\",\"  </thead>\\n\",\"  <tbody>\\n\",\"    <tr>\\n\",\"      <th>0</th>\\n\",\"      <td>39</td>\\n\",\"      <td>State-gov</td>\\n\",\"      <td>77516</td>\\n\",\"      <td>Bachelors</td>\\n\",\"      <td>13</td>\\n\",\"      <td>Never-married</td>\\n\",\"      <td>Adm-clerical</td>\\n\",\"      <td>Not-in-family</td>\\n\",\"      <td>White</td>\\n\",\"      <td>Male</td>\\n\",\"      <td>2174</td>\\n\",\"      <td>0</td>\\n\",\"      <td>40</td>\\n\",\"      <td>United-States</td>\\n\",\"      <td>&lt;=50K</td>\\n\",\"    </tr>\\n\",\"    <tr>\\n\",\"      <th>1</th>\\n\",\"      <td>50</td>\\n\",\"      <td>Self-emp-not-inc</td>\\n\",\"      <td>83311</td>\\n\",\"      <td>Bachelors</td>\\n\",\"      <td>13</td>\\n\",\"      <td>Married-civ-spouse</td>\\n\",\"      <td>Exec-managerial</td>\\n\",\"      <td>Husband</td>\\n\",\"      <td>White</td>\\n\",\"      <td>Male</td>\\n\",\"      <td>0</td>\\n\",\"      <td>0</td>\\n\",\"      <td>13</td>\\n\",\"      <td>United-States</td>\\n\",\"      <td>&lt;=50K</td>\\n\",\"    </tr>\\n\",\"    <tr>\\n\",\"      <th>2</th>\\n\",\"      <td>38</td>\\n\",\"      <td>Private</td>\\n\",\"      <td>215646</td>\\n\",\"      <td>HS-grad</td>\\n\",\"      <td>9</td>\\n\",\"      <td>Divorced</td>\\n\",\"      <td>Handlers-cleaners</td>\\n\",\"      <td>Not-in-family</td>\\n\",\"      <td>White</td>\\n\",\"      <td>Male</td>\\n\",\"      <td>0</td>\\n\",\"      <td>0</td>\\n\",\"      <td>40</td>\\n\",\"      <td>United-States</td>\\n\",\"      <td>&lt;=50K</td>\\n\",\"    </tr>\\n\",\"    <tr>\\n\",\"      <th>3</th>\\n\",\"      <td>53</td>\\n\",\"      <td>Private</td>\\n\",\"      <td>234721</td>\\n\",\"      <td>11th</td>\\n\",\"      <td>7</td>\\n\",\"      <td>Married-civ-spouse</td>\\n\",\"      <td>Handlers-cleaners</td>\\n\",\"      <td>Husband</td>\\n\",\"      <td>Black</td>\\n\",\"      <td>Male</td>\\n\",\"      <td>0</td>\\n\",\"      <td>0</td>\\n\",\"      <td>40</td>\\n\",\"      <td>United-States</td>\\n\",\"      <td>&lt;=50K</td>\\n\",\"    </tr>\\n\",\"    <tr>\\n\",\"      <th>4</th>\\n\",\"      <td>28</td>\\n\",\"      <td>Private</td>\\n\",\"      <td>338409</td>\\n\",\"      <td>Bachelors</td>\\n\",\"      <td>13</td>\\n\",\"      <td>Married-civ-spouse</td>\\n\",\"      <td>Prof-specialty</td>\\n\",\"      <td>Wife</td>\\n\",\"      <td>Black</td>\\n\",\"      <td>Female</td>\\n\",\"      <td>0</td>\\n\",\"      <td>0</td>\\n\",\"      <td>40</td>\\n\",\"      <td>Cuba</td>\\n\",\"      <td>&lt;=50K</td>\\n\",\"    </tr>\\n\",\"  </tbody>\\n\",\"</table>\\n\",\"</div>\\n\",\"    <div class=\\\"colab-df-buttons\\\">\\n\",\"\\n\",\"  <div class=\\\"colab-df-container\\\">\\n\",\"    <button class=\\\"colab-df-convert\\\" onclick=\\\"convertToInteractive('df-06a8274d-b30e-420c-830c-9591be0c8311')\\\"\\n\",\"            title=\\\"Convert this dataframe to an interactive table.\\\"\\n\",\"            style=\\\"display:none;\\\">\\n\",\"\\n\",\"  <svg xmlns=\\\"http://www.w3.org/2000/svg\\\" height=\\\"24px\\\" viewBox=\\\"0 -960 960 960\\\">\\n\",\"    <path d=\\\"M120-120v-720h720v720H120Zm60-500h600v-160H180v160Zm220 220h160v-160H400v160Zm0 220h160v-160H400v160ZM180-400h160v-160H180v160Zm440 0h160v-160H620v160ZM180-180h160v-160H180v160Zm440 0h160v-160H620v160Z\\\"/>\\n\",\"  </svg>\\n\",\"    </button>\\n\",\"\\n\",\"  <style>\\n\",\"    .colab-df-container {\\n\",\"      display:flex;\\n\",\"      gap: 12px;\\n\",\"    }\\n\",\"\\n\",\"    .colab-df-convert {\\n\",\"      background-color: #E8F0FE;\\n\",\"      border: none;\\n\",\"      border-radius: 50%;\\n\",\"      cursor: pointer;\\n\",\"      display: none;\\n\",\"      fill: #1967D2;\\n\",\"      height: 32px;\\n\",\"      padding: 0 0 0 0;\\n\",\"      width: 32px;\\n\",\"    }\\n\",\"\\n\",\"    .colab-df-convert:hover {\\n\",\"      background-color: #E2EBFA;\\n\",\"      box-shadow: 0px 1px 2px rgba(60, 64, 67, 0.3), 0px 1px 3px 1px rgba(60, 64, 67, 0.15);\\n\",\"      fill: #174EA6;\\n\",\"    }\\n\",\"\\n\",\"    .colab-df-buttons div {\\n\",\"      margin-bottom: 4px;\\n\",\"    }\\n\",\"\\n\",\"    [theme=dark] .colab-df-convert {\\n\",\"      background-color: #3B4455;\\n\",\"      fill: #D2E3FC;\\n\",\"    }\\n\",\"\\n\",\"    [theme=dark] .colab-df-convert:hover {\\n\",\"      background-color: #434B5C;\\n\",\"      box-shadow: 0px 1px 3px 1px rgba(0, 0, 0, 0.15);\\n\",\"      filter: drop-shadow(0px 1px 2px rgba(0, 0, 0, 0.3));\\n\",\"      fill: #FFFFFF;\\n\",\"    }\\n\",\"  </style>\\n\",\"\\n\",\"    <script>\\n\",\"      const buttonEl =\\n\",\"        document.querySelector('#df-06a8274d-b30e-420c-830c-9591be0c8311 button.colab-df-convert');\\n\",\"      buttonEl.style.display =\\n\",\"        google.colab.kernel.accessAllowed ? 'block' : 'none';\\n\",\"\\n\",\"      async function convertToInteractive(key) {\\n\",\"        const element = document.querySelector('#df-06a8274d-b30e-420c-830c-9591be0c8311');\\n\",\"        const dataTable =\\n\",\"          await google.colab.kernel.invokeFunction('convertToInteractive',\\n\",\"                                                    [key], {});\\n\",\"        if (!dataTable) return;\\n\",\"\\n\",\"        const docLinkHtml = 'Like what you see? Visit the ' +\\n\",\"          '<a target=\\\"_blank\\\" href=https://colab.research.google.com/notebooks/data_table.ipynb>data table notebook</a>'\\n\",\"          + ' to learn more about interactive tables.';\\n\",\"        element.innerHTML = '';\\n\",\"        dataTable['output_type'] = 'display_data';\\n\",\"        await google.colab.output.renderOutput(dataTable, element);\\n\",\"        const docLink = document.createElement('div');\\n\",\"        docLink.innerHTML = docLinkHtml;\\n\",\"        element.appendChild(docLink);\\n\",\"      }\\n\",\"    </script>\\n\",\"  </div>\\n\",\"\\n\",\"\\n\",\"<div id=\\\"df-63a5b71e-7421-4689-8594-d21df5c6a148\\\">\\n\",\"  <button class=\\\"colab-df-quickchart\\\" onclick=\\\"quickchart('df-63a5b71e-7421-4689-8594-d21df5c6a148')\\\"\\n\",\"            title=\\\"Suggest charts\\\"\\n\",\"            style=\\\"display:none;\\\">\\n\",\"\\n\",\"<svg xmlns=\\\"http://www.w3.org/2000/svg\\\" height=\\\"24px\\\"viewBox=\\\"0 0 24 24\\\"\\n\",\"     width=\\\"24px\\\">\\n\",\"    <g>\\n\",\"        <path d=\\\"M19 3H5c-1.1 0-2 .9-2 2v14c0 1.1.9 2 2 2h14c1.1 0 2-.9 2-2V5c0-1.1-.9-2-2-2zM9 17H7v-7h2v7zm4 0h-2V7h2v10zm4 0h-2v-4h2v4z\\\"/>\\n\",\"    </g>\\n\",\"</svg>\\n\",\"  </button>\\n\",\"\\n\",\"<style>\\n\",\"  .colab-df-quickchart {\\n\",\"      --bg-color: #E8F0FE;\\n\",\"      --fill-color: #1967D2;\\n\",\"      --hover-bg-color: #E2EBFA;\\n\",\"      --hover-fill-color: #174EA6;\\n\",\"      --disabled-fill-color: #AAA;\\n\",\"      --disabled-bg-color: #DDD;\\n\",\"  }\\n\",\"\\n\",\"  [theme=dark] .colab-df-quickchart {\\n\",\"      --bg-color: #3B4455;\\n\",\"      --fill-color: #D2E3FC;\\n\",\"      --hover-bg-color: #434B5C;\\n\",\"      --hover-fill-color: #FFFFFF;\\n\",\"      --disabled-bg-color: #3B4455;\\n\",\"      --disabled-fill-color: #666;\\n\",\"  }\\n\",\"\\n\",\"  .colab-df-quickchart {\\n\",\"    background-color: var(--bg-color);\\n\",\"    border: none;\\n\",\"    border-radius: 50%;\\n\",\"    cursor: pointer;\\n\",\"    display: none;\\n\",\"    fill: var(--fill-color);\\n\",\"    height: 32px;\\n\",\"    padding: 0;\\n\",\"    width: 32px;\\n\",\"  }\\n\",\"\\n\",\"  .colab-df-quickchart:hover {\\n\",\"    background-color: var(--hover-bg-color);\\n\",\"    box-shadow: 0 1px 2px rgba(60, 64, 67, 0.3), 0 1px 3px 1px rgba(60, 64, 67, 0.15);\\n\",\"    fill: var(--button-hover-fill-color);\\n\",\"  }\\n\",\"\\n\",\"  .colab-df-quickchart-complete:disabled,\\n\",\"  .colab-df-quickchart-complete:disabled:hover {\\n\",\"    background-color: var(--disabled-bg-color);\\n\",\"    fill: var(--disabled-fill-color);\\n\",\"    box-shadow: none;\\n\",\"  }\\n\",\"\\n\",\"  .colab-df-spinner {\\n\",\"    border: 2px solid var(--fill-color);\\n\",\"    border-color: transparent;\\n\",\"    border-bottom-color: var(--fill-color);\\n\",\"    animation:\\n\",\"      spin 1s steps(1) infinite;\\n\",\"  }\\n\",\"\\n\",\"  @keyframes spin {\\n\",\"    0% {\\n\",\"      border-color: transparent;\\n\",\"      border-bottom-color: var(--fill-color);\\n\",\"      border-left-color: var(--fill-color);\\n\",\"    }\\n\",\"    20% {\\n\",\"      border-color: transparent;\\n\",\"      border-left-color: var(--fill-color);\\n\",\"      border-top-color: var(--fill-color);\\n\",\"    }\\n\",\"    30% {\\n\",\"      border-color: transparent;\\n\",\"      border-left-color: var(--fill-color);\\n\",\"      border-top-color: var(--fill-color);\\n\",\"      border-right-color: var(--fill-color);\\n\",\"    }\\n\",\"    40% {\\n\",\"      border-color: transparent;\\n\",\"      border-right-color: var(--fill-color);\\n\",\"      border-top-color: var(--fill-color);\\n\",\"    }\\n\",\"    60% {\\n\",\"      border-color: transparent;\\n\",\"      border-right-color: var(--fill-color);\\n\",\"    }\\n\",\"    80% {\\n\",\"      border-color: transparent;\\n\",\"      border-right-color: var(--fill-color);\\n\",\"      border-bottom-color: var(--fill-color);\\n\",\"    }\\n\",\"    90% {\\n\",\"      border-color: transparent;\\n\",\"      border-bottom-color: var(--fill-color);\\n\",\"    }\\n\",\"  }\\n\",\"</style>\\n\",\"\\n\",\"  <script>\\n\",\"    async function quickchart(key) {\\n\",\"      const quickchartButtonEl =\\n\",\"        document.querySelector('#' + key + ' button');\\n\",\"      quickchartButtonEl.disabled = true;  // To prevent multiple clicks.\\n\",\"      quickchartButtonEl.classList.add('colab-df-spinner');\\n\",\"      try {\\n\",\"        const charts = await google.colab.kernel.invokeFunction(\\n\",\"            'suggestCharts', [key], {});\\n\",\"      } catch (error) {\\n\",\"        console.error('Error during call to suggestCharts:', error);\\n\",\"      }\\n\",\"      quickchartButtonEl.classList.remove('colab-df-spinner');\\n\",\"      quickchartButtonEl.classList.add('colab-df-quickchart-complete');\\n\",\"    }\\n\",\"    (() => {\\n\",\"      let quickchartButtonEl =\\n\",\"        document.querySelector('#df-63a5b71e-7421-4689-8594-d21df5c6a148 button');\\n\",\"      quickchartButtonEl.style.display =\\n\",\"        google.colab.kernel.accessAllowed ? 'block' : 'none';\\n\",\"    })();\\n\",\"  </script>\\n\",\"</div>\\n\",\"\\n\",\"    </div>\\n\",\"  </div>\\n\"],\"application/vnd.google.colaboratory.intrinsic+json\":{\"type\":\"dataframe\",\"variable_name\":\"df\",\"summary\":\"{\\n  \\\"name\\\": \\\"df\\\",\\n  \\\"rows\\\": 32561,\\n  \\\"fields\\\": [\\n    {\\n      \\\"column\\\": 0,\\n      \\\"properties\\\": {\\n        \\\"dtype\\\": \\\"number\\\",\\n        \\\"std\\\": 13,\\n        \\\"min\\\": 17,\\n        \\\"max\\\": 90,\\n        \\\"num_unique_values\\\": 73,\\n        \\\"samples\\\": [\\n          28,\\n          73,\\n          35\\n        ],\\n        \\\"semantic_type\\\": \\\"\\\",\\n        \\\"description\\\": \\\"\\\"\\n      }\\n    },\\n    {\\n      \\\"column\\\": 1,\\n      \\\"properties\\\": {\\n        \\\"dtype\\\": \\\"category\\\",\\n        \\\"num_unique_values\\\": 9,\\n        \\\"samples\\\": [\\n          \\\" Without-pay\\\",\\n          \\\" Self-emp-not-inc\\\",\\n          \\\" ?\\\"\\n        ],\\n        \\\"semantic_type\\\": \\\"\\\",\\n        \\\"description\\\": \\\"\\\"\\n      }\\n    },\\n    {\\n      \\\"column\\\": 2,\\n      \\\"properties\\\": {\\n        \\\"dtype\\\": \\\"number\\\",\\n        \\\"std\\\": 105549,\\n        \\\"min\\\": 12285,\\n        \\\"max\\\": 1484705,\\n        \\\"num_unique_values\\\": 21648,\\n        \\\"samples\\\": [\\n          128485,\\n          469907,\\n          235951\\n        ],\\n        \\\"semantic_type\\\": \\\"\\\",\\n        \\\"description\\\": \\\"\\\"\\n      }\\n    },\\n    {\\n      \\\"column\\\": 3,\\n      \\\"properties\\\": {\\n        \\\"dtype\\\": \\\"category\\\",\\n        \\\"num_unique_values\\\": 16,\\n        \\\"samples\\\": [\\n          \\\" Bachelors\\\",\\n          \\\" HS-grad\\\",\\n          \\\" Some-college\\\"\\n        ],\\n        \\\"semantic_type\\\": \\\"\\\",\\n        \\\"description\\\": \\\"\\\"\\n      }\\n    },\\n    {\\n      \\\"column\\\": 4,\\n      \\\"properties\\\": {\\n        \\\"dtype\\\": \\\"number\\\",\\n        \\\"std\\\": 2,\\n        \\\"min\\\": 1,\\n        \\\"max\\\": 16,\\n        \\\"num_unique_values\\\": 16,\\n        \\\"samples\\\": [\\n          13,\\n          9,\\n          10\\n        ],\\n        \\\"semantic_type\\\": \\\"\\\",\\n        \\\"description\\\": \\\"\\\"\\n      }\\n    },\\n    {\\n      \\\"column\\\": 5,\\n      \\\"properties\\\": {\\n        \\\"dtype\\\": \\\"category\\\",\\n        \\\"num_unique_values\\\": 7,\\n        \\\"samples\\\": [\\n          \\\" Never-married\\\",\\n          \\\" Married-civ-spouse\\\",\\n          \\\" Married-AF-spouse\\\"\\n        ],\\n        \\\"semantic_type\\\": \\\"\\\",\\n        \\\"description\\\": \\\"\\\"\\n      }\\n    },\\n    {\\n      \\\"column\\\": 6,\\n      \\\"properties\\\": {\\n        \\\"dtype\\\": \\\"category\\\",\\n        \\\"num_unique_values\\\": 15,\\n        \\\"samples\\\": [\\n          \\\" Machine-op-inspct\\\",\\n          \\\" ?\\\",\\n          \\\" Adm-clerical\\\"\\n        ],\\n        \\\"semantic_type\\\": \\\"\\\",\\n        \\\"description\\\": \\\"\\\"\\n      }\\n    },\\n    {\\n      \\\"column\\\": 7,\\n      \\\"properties\\\": {\\n        \\\"dtype\\\": \\\"category\\\",\\n        \\\"num_unique_values\\\": 6,\\n        \\\"samples\\\": [\\n          \\\" Not-in-family\\\",\\n          \\\" Husband\\\",\\n          \\\" Other-relative\\\"\\n        ],\\n        \\\"semantic_type\\\": \\\"\\\",\\n        \\\"description\\\": \\\"\\\"\\n      }\\n    },\\n    {\\n      \\\"column\\\": 8,\\n      \\\"properties\\\": {\\n        \\\"dtype\\\": \\\"category\\\",\\n        \\\"num_unique_values\\\": 5,\\n        \\\"samples\\\": [\\n          \\\" Black\\\",\\n          \\\" Other\\\",\\n          \\\" Asian-Pac-Islander\\\"\\n        ],\\n        \\\"semantic_type\\\": \\\"\\\",\\n        \\\"description\\\": \\\"\\\"\\n      }\\n    },\\n    {\\n      \\\"column\\\": 9,\\n      \\\"properties\\\": {\\n        \\\"dtype\\\": \\\"category\\\",\\n        \\\"num_unique_values\\\": 2,\\n        \\\"samples\\\": [\\n          \\\" Female\\\",\\n          \\\" Male\\\"\\n        ],\\n        \\\"semantic_type\\\": \\\"\\\",\\n        \\\"description\\\": \\\"\\\"\\n      }\\n    },\\n    {\\n      \\\"column\\\": 10,\\n      \\\"properties\\\": {\\n        \\\"dtype\\\": \\\"number\\\",\\n        \\\"std\\\": 7385,\\n        \\\"min\\\": 0,\\n        \\\"max\\\": 99999,\\n        \\\"num_unique_values\\\": 119,\\n        \\\"samples\\\": [\\n          3781,\\n          15831\\n        ],\\n        \\\"semantic_type\\\": \\\"\\\",\\n        \\\"description\\\": \\\"\\\"\\n      }\\n    },\\n    {\\n      \\\"column\\\": 11,\\n      \\\"properties\\\": {\\n        \\\"dtype\\\": \\\"number\\\",\\n        \\\"std\\\": 402,\\n        \\\"min\\\": 0,\\n        \\\"max\\\": 4356,\\n        \\\"num_unique_values\\\": 92,\\n        \\\"samples\\\": [\\n          419,\\n          2051\\n        ],\\n        \\\"semantic_type\\\": \\\"\\\",\\n        \\\"description\\\": \\\"\\\"\\n      }\\n    },\\n    {\\n      \\\"column\\\": 12,\\n      \\\"properties\\\": {\\n        \\\"dtype\\\": \\\"number\\\",\\n        \\\"std\\\": 12,\\n        \\\"min\\\": 1,\\n        \\\"max\\\": 99,\\n        \\\"num_unique_values\\\": 94,\\n        \\\"samples\\\": [\\n          6,\\n          22\\n        ],\\n        \\\"semantic_type\\\": \\\"\\\",\\n        \\\"description\\\": \\\"\\\"\\n      }\\n    },\\n    {\\n      \\\"column\\\": 13,\\n      \\\"properties\\\": {\\n        \\\"dtype\\\": \\\"category\\\",\\n        \\\"num_unique_values\\\": 42,\\n        \\\"samples\\\": [\\n          \\\" El-Salvador\\\",\\n          \\\" Philippines\\\"\\n        ],\\n        \\\"semantic_type\\\": \\\"\\\",\\n        \\\"description\\\": \\\"\\\"\\n      }\\n    },\\n    {\\n      \\\"column\\\": 14,\\n      \\\"properties\\\": {\\n        \\\"dtype\\\": \\\"category\\\",\\n        \\\"num_unique_values\\\": 2,\\n        \\\"samples\\\": [\\n          \\\" >50K\\\",\\n          \\\" <=50K\\\"\\n        ],\\n        \\\"semantic_type\\\": \\\"\\\",\\n        \\\"description\\\": \\\"\\\"\\n      }\\n    }\\n  ]\\n}\"}},\"metadata\":{},\"execution_count\":31}]},{\"cell_type\":\"code\",\"source\":[\"!git clone https://github.com/wxs/keras-mnist-tutorial.git\"],\"metadata\":{\"colab\":{\"base_uri\":\"https://localhost:8080/\"},\"id\":\"Cm_fzuSqrF1i\",\"executionInfo\":{\"status\":\"ok\",\"timestamp\":1729155117512,\"user_tz\":-480,\"elapsed\":1346,\"user\":{\"displayName\":\"Ain Aqilah Basirun\",\"userId\":\"00041838481199485590\"}},\"outputId\":\"73002faf-da0a-40f4-c1f5-203f4d01c67b\"},\"execution_count\":null,\"outputs\":[{\"output_type\":\"stream\",\"name\":\"stdout\",\"text\":[\"Cloning into 'keras-mnist-tutorial'...\\n\",\"remote: Enumerating objects: 26, done.\\u001b[K\\n\",\"remote: Total 26 (delta 0), reused 0 (delta 0), pack-reused 26 (from 1)\\u001b[K\\n\",\"Receiving objects: 100% (26/26), 341.08 KiB | 3.22 MiB/s, done.\\n\",\"Resolving deltas: 100% (12/12), done.\\n\"]}]},{\"cell_type\":\"code\",\"source\":[\"# Run this cell to mount your Google Drive\\n\",\"from google.colab import drive\\n\",\"drive.mount('/content/drive')\"],\"metadata\":{\"colab\":{\"base_uri\":\"https://localhost:8080/\"},\"id\":\"B6zryUJvshrU\",\"executionInfo\":{\"status\":\"ok\",\"timestamp\":1729155622552,\"user_tz\":-480,\"elapsed\":25869,\"user\":{\"displayName\":\"Ain Aqilah Basirun\",\"userId\":\"00041838481199485590\"}},\"outputId\":\"a8621b1c-f4f8-458d-a13c-6e45b82abf1d\"},\"execution_count\":null,\"outputs\":[{\"output_type\":\"stream\",\"name\":\"stdout\",\"text\":[\"Drive already mounted at /content/drive; to attempt to forcibly remount, call drive.mount(\\\"/content/drive\\\", force_remount=True).\\n\"]}]},{\"cell_type\":\"code\",\"source\":[\"!ls \\\"/content/drive/My Drive/Colab Notebooks\\\"\"],\"metadata\":{\"colab\":{\"base_uri\":\"https://localhost:8080/\"},\"id\":\"MSUczEeAuBLT\",\"executionInfo\":{\"status\":\"ok\",\"timestamp\":1729155859207,\"user_tz\":-480,\"elapsed\":374,\"user\":{\"displayName\":\"Ain Aqilah Basirun\",\"userId\":\"00041838481199485590\"}},\"outputId\":\"95bda73e-d94d-46fe-dfe5-0827e4e05fc3\"},\"execution_count\":null,\"outputs\":[{\"output_type\":\"stream\",\"name\":\"stdout\",\"text\":[\"'Copy of MyFirstColabNotebook (1).ipynb'   MyFirstColabNotebook.ipynb\\n\",\"'Copy of MyFirstColabNotebook.ipynb'\\t   Untitled0.ipynb\\n\"]}]},{\"cell_type\":\"code\",\"source\":[\"!python3 \\\"/content/drive/My Drive/Colab Notebooks/MyFirstColabNotebook.ipynb\\\"\"],\"metadata\":{\"id\":\"GVEpCn0euMEZ\",\"executionInfo\":{\"status\":\"ok\",\"timestamp\":1729214874707,\"user_tz\":-480,\"elapsed\":752,\"user\":{\"displayName\":\"Ain Aqilah Basirun\",\"userId\":\"00041838481199485590\"}}},\"execution_count\":1,\"outputs\":[]},{\"cell_type\":\"code\",\"source\":[\"!ls /bin\"],\"metadata\":{\"colab\":{\"base_uri\":\"https://localhost:8080/\"},\"id\":\"mhHJkCW1PZse\",\"executionInfo\":{\"status\":\"ok\",\"timestamp\":1729214929450,\"user_tz\":-480,\"elapsed\":374,\"user\":{\"displayName\":\"Ain Aqilah Basirun\",\"userId\":\"00041838481199485590\"}},\"outputId\":\"cf5ffc7e-9fa2-4933-9f4f-97320dc0a438\"},\"execution_count\":2,\"outputs\":[{\"output_type\":\"stream\",\"name\":\"stdout\",\"text\":[\"'['\\t\\t\\t\\t      mkdir\\n\",\" 7z\\t\\t\\t\\t      mkfifo\\n\",\" 7za\\t\\t\\t\\t      mknod\\n\",\" 7zr\\t\\t\\t\\t      mktemp\\n\",\" aclocal\\t\\t\\t      mm2gv\\n\",\" aclocal-1.16\\t\\t\\t      more\\n\",\" acyclic\\t\\t\\t      mount\\n\",\" add-apt-repository\\t\\t      mountpoint\\n\",\" addpart\\t\\t\\t      mpexpand\\n\",\" addr2line\\t\\t\\t      mpic++\\n\",\" aggregate_profile\\t\\t      mpicc\\n\",\" apropos\\t\\t\\t      mpiCC\\n\",\" apt\\t\\t\\t\\t      mpicc.openmpi\\n\",\" apt-add-repository\\t\\t      mpiCC.openmpi\\n\",\" apt-cache\\t\\t\\t      mpic++.openmpi\\n\",\" apt-cdrom\\t\\t\\t      mpicxx\\n\",\" apt-config\\t\\t\\t      mpicxx.openmpi\\n\",\" apt-extracttemplates\\t\\t      mpiexec\\n\",\" apt-ftparchive\\t\\t\\t      mpiexec.openmpi\\n\",\" apt-get\\t\\t\\t      mpif77\\n\",\" apt-key\\t\\t\\t      mpif77.openmpi\\n\",\" apt-mark\\t\\t\\t      mpif90\\n\",\" apt-sortpkgs\\t\\t\\t      mpif90.openmpi\\n\",\" ar\\t\\t\\t\\t      mpifort\\n\",\" arch\\t\\t\\t\\t      mpifort.openmpi\\n\",\" as\\t\\t\\t\\t      mpijavac\\n\",\" asan_symbolize\\t\\t\\t      mpijavac.pl\\n\",\" asan_symbolize-14\\t\\t      mpirun\\n\",\" autoconf\\t\\t\\t      mpirun.openmpi\\n\",\" autoheader\\t\\t\\t      mv\\n\",\" autom4te\\t\\t\\t      mysql_config\\n\",\" automake\\t\\t\\t      namei\\n\",\" automake-1.16\\t\\t\\t      nawk\\n\",\" autoreconf\\t\\t\\t      nc-config\\n\",\" autoscan\\t\\t\\t      ncurses5-config\\n\",\" autoupdate\\t\\t\\t      ncurses6-config\\n\",\" awk\\t\\t\\t\\t      ncursesw5-config\\n\",\" b2\\t\\t\\t\\t      ncursesw6-config\\n\",\" b2sum\\t\\t\\t\\t      neato\\n\",\" base32\\t\\t\\t\\t      neqn\\n\",\" base64\\t\\t\\t\\t      networkctl\\n\",\" basename\\t\\t\\t      newgrp\\n\",\" basenc\\t\\t\\t\\t      nice\\n\",\" bash\\t\\t\\t\\t      nisdomainname\\n\",\" bashbug\\t\\t\\t      nl\\n\",\" bcomps\\t\\t\\t\\t      nm\\n\",\" bcp\\t\\t\\t\\t      nns\\n\",\" bjam\\t\\t\\t\\t      nnsd\\n\",\" bootctl\\t\\t\\t      nnslog\\n\",\" browse\\t\\t\\t\\t      nohup\\n\",\" bunzip2\\t\\t\\t      nop\\n\",\" busctl\\t\\t\\t\\t      nproc\\n\",\" bzcat\\t\\t\\t\\t      nroff\\n\",\" bzcmp\\t\\t\\t\\t      nsenter\\n\",\" bzdiff\\t\\t\\t\\t      nstat\\n\",\" bzegrep\\t\\t\\t      numfmt\\n\",\" bzexe\\t\\t\\t\\t      objcopy\\n\",\" bzfgrep\\t\\t\\t      objdump\\n\",\" bzgrep\\t\\t\\t\\t      od\\n\",\" bzip2\\t\\t\\t\\t      ogdi-config\\n\",\" bzip2recover\\t\\t\\t      ompi-clean\\n\",\" bzless\\t\\t\\t\\t      ompi_info\\n\",\" bzmore\\t\\t\\t\\t      ompi-server\\n\",\" c++\\t\\t\\t\\t      opalc++\\n\",\" c89\\t\\t\\t\\t      opalcc\\n\",\" c89-gcc\\t\\t\\t      opal_wrapper\\n\",\" c99\\t\\t\\t\\t      open\\n\",\" c99-gcc\\t\\t\\t      opencv_annotation\\n\",\" captoinfo\\t\\t\\t      opencv_interactive-calibration\\n\",\" cat\\t\\t\\t\\t      opencv_model_diagnostics\\n\",\" catman\\t\\t\\t\\t      opencv_version\\n\",\" cc\\t\\t\\t\\t      opencv_visualisation\\n\",\" ccomps\\t\\t\\t\\t      opencv_waldboost_detector\\n\",\" c++filt\\t\\t\\t      openssl\\n\",\" chage\\t\\t\\t\\t      ortecc\\n\",\" chattr\\t\\t\\t\\t      orte-clean\\n\",\" chcon\\t\\t\\t\\t      orted\\n\",\" chfn\\t\\t\\t\\t      orte-info\\n\",\" chgrp\\t\\t\\t\\t      orterun\\n\",\" chmod\\t\\t\\t\\t      orte-server\\n\",\" choom\\t\\t\\t\\t      osage\\n\",\" chown\\t\\t\\t\\t      oshc++\\n\",\" chronic\\t\\t\\t      oshcc\\n\",\" chrt\\t\\t\\t\\t      oshCC\\n\",\" chsh\\t\\t\\t\\t      oshcxx\\n\",\" circo\\t\\t\\t\\t      oshfort\\n\",\" cksum\\t\\t\\t\\t      oshmem_info\\n\",\" clang\\t\\t\\t\\t      oshrun\\n\",\" clang++\\t\\t\\t      p7zip\\n\",\" clang++-14\\t\\t\\t      pack200\\n\",\" clang-14\\t\\t\\t      page\\n\",\" clang-cpp-14\\t\\t\\t      pager\\n\",\" clear\\t\\t\\t\\t      paperconf\\n\",\" clear_console\\t\\t\\t      parallel\\n\",\" clinfo\\t\\t\\t\\t      partx\\n\",\" cluster\\t\\t\\t      passwd\\n\",\" cmake\\t\\t\\t\\t      paste\\n\",\" cmp\\t\\t\\t\\t      patch\\n\",\" col\\t\\t\\t\\t      patchwork\\n\",\" colcrt\\t\\t\\t\\t      pathchk\\n\",\" colrm\\t\\t\\t\\t      pcre2-config\\n\",\" column\\t\\t\\t\\t      pcre-config\\n\",\" combine\\t\\t\\t      pdb3\\n\",\" comm\\t\\t\\t\\t      pdb3.10\\n\",\" compile_et\\t\\t\\t      pee\\n\",\" corelist\\t\\t\\t      peekfd\\n\",\" cp\\t\\t\\t\\t      perl\\n\",\" cpack\\t\\t\\t\\t      perl5.34.0\\n\",\" cpan\\t\\t\\t\\t      perl5.34-x86_64-linux-gnu\\n\",\" cpan5.34-x86_64-linux-gnu\\t      perlbug\\n\",\" cpp\\t\\t\\t\\t      perldoc\\n\",\" cpp-11\\t\\t\\t\\t      perlivp\\n\",\" c_rehash\\t\\t\\t      perlthanks\\n\",\" csplit\\t\\t\\t\\t      pg_config\\n\",\" ctest\\t\\t\\t\\t      pgrep\\n\",\" ctstat\\t\\t\\t\\t      pic\\n\",\" curl\\t\\t\\t\\t      piconv\\n\",\" curl-config\\t\\t\\t      pidof\\n\",\" cut\\t\\t\\t\\t      pidwait\\n\",\" cvtsudoers\\t\\t\\t      pinentry\\n\",\" dash\\t\\t\\t\\t      pinentry-curses\\n\",\" date\\t\\t\\t\\t      pinky\\n\",\" dbus-cleanup-sockets\\t\\t      pkaction\\n\",\" dbus-daemon\\t\\t\\t      pkcheck\\n\",\" dbus-monitor\\t\\t\\t      pkexec\\n\",\" dbus-run-session\\t\\t      pkgconf\\n\",\" dbus-send\\t\\t\\t      pkg-config\\n\",\" dbus-update-activation-environment   pkgdata\\n\",\" dbus-uuidgen\\t\\t\\t      pkill\\n\",\" dd\\t\\t\\t\\t      pkttyagent\\n\",\" debconf\\t\\t\\t      pl2pm\\n\",\" debconf-apt-progress\\t\\t      pldd\\n\",\" debconf-communicate\\t\\t      pmap\\n\",\" debconf-copydb\\t\\t\\t      pod2html\\n\",\" debconf-escape\\t\\t\\t      pod2man\\n\",\" debconf-set-selections\\t\\t      pod2text\\n\",\" debconf-show\\t\\t\\t      pod2usage\\n\",\" deb-systemd-helper\\t\\t      podchecker\\n\",\" deb-systemd-invoke\\t\\t      pprof-symbolize\\n\",\" delpart\\t\\t\\t      pr\\n\",\" derb\\t\\t\\t\\t      preconv\\n\",\" df\\t\\t\\t\\t      prename\\n\",\" dh_autotools-dev_restoreconfig       printenv\\n\",\" dh_autotools-dev_updateconfig\\t      printf\\n\",\" diff\\t\\t\\t\\t      prlimit\\n\",\" diff3\\t\\t\\t\\t      profile2mat\\n\",\" diffimg\\t\\t\\t      protoc\\n\",\" dijkstra\\t\\t\\t      prove\\n\",\" dir\\t\\t\\t\\t      prtstat\\n\",\" dircolors\\t\\t\\t      prune\\n\",\" dirmngr\\t\\t\\t      ps\\n\",\" dirmngr-client\\t\\t\\t      pslog\\n\",\" dirname\\t\\t\\t      pstree\\n\",\" dmesg\\t\\t\\t\\t      pstree.x11\\n\",\" dnsdomainname\\t\\t\\t      pt\\n\",\" domainname\\t\\t\\t      ptar\\n\",\" dot\\t\\t\\t\\t      ptardiff\\n\",\" dot2gxl\\t\\t\\t      ptargrep\\n\",\" dot_builtins\\t\\t\\t      ptx\\n\",\" dotty\\t\\t\\t\\t      pwd\\n\",\" dpkg\\t\\t\\t\\t      pwdx\\n\",\" dpkg-architecture\\t\\t      py3clean\\n\",\" dpkg-buildflags\\t\\t      py3compile\\n\",\" dpkg-buildpackage\\t\\t      py3versions\\n\",\" dpkg-checkbuilddeps\\t\\t      pydoc3\\n\",\" dpkg-deb\\t\\t\\t      pydoc3.10\\n\",\" dpkg-distaddfile\\t\\t      pygettext3\\n\",\" dpkg-divert\\t\\t\\t      pygettext3.10\\n\",\" dpkg-genbuildinfo\\t\\t      python3\\n\",\" dpkg-genchanges\\t\\t      python3.10\\n\",\" dpkg-gencontrol\\t\\t      python3.10-config\\n\",\" dpkg-gensymbols\\t\\t      python3-config\\n\",\" dpkg-maintscript-helper\\t      qt-faststart\\n\",\" dpkg-mergechangelogs\\t\\t      quickbook\\n\",\" dpkg-name\\t\\t\\t      R\\n\",\" dpkg-parsechangelog\\t\\t      ranlib\\n\",\" dpkg-query\\t\\t\\t      rbash\\n\",\" dpkg-realpath\\t\\t\\t      rcp\\n\",\" dpkg-scanpackages\\t\\t      rdma\\n\",\" dpkg-scansources\\t\\t      readelf\\n\",\" dpkg-shlibdeps\\t\\t\\t      readlink\\n\",\" dpkg-source\\t\\t\\t      realpath\\n\",\" dpkg-split\\t\\t\\t      rename\\n\",\" dpkg-statoverride\\t\\t      renice\\n\",\" dpkg-trigger\\t\\t\\t      reset\\n\",\" dpkg-vendor\\t\\t\\t      resizepart\\n\",\" dtplite\\t\\t\\t      resolvectl\\n\",\" du\\t\\t\\t\\t      rev\\n\",\" dwp\\t\\t\\t\\t      rgrep\\n\",\" echo\\t\\t\\t\\t      rlogin\\n\",\" edgepaint\\t\\t\\t      rm\\n\",\" editor\\t\\t\\t\\t      rmdir\\n\",\" egrep\\t\\t\\t\\t      rmic\\n\",\" elfedit\\t\\t\\t      rmid\\n\",\" enc2xs\\t\\t\\t\\t      rmiregistry\\n\",\" encguess\\t\\t\\t      routef\\n\",\" env\\t\\t\\t\\t      routel\\n\",\" eqn\\t\\t\\t\\t      rpcgen\\n\",\" errno\\t\\t\\t\\t      rrsync\\n\",\" ex\\t\\t\\t\\t      Rscript\\n\",\" expand\\t\\t\\t\\t      rsh\\n\",\" expiry\\t\\t\\t\\t      rsync\\n\",\" expr\\t\\t\\t\\t      rsync-ssl\\n\",\" f77\\t\\t\\t\\t      rtstat\\n\",\" f95\\t\\t\\t\\t      runcon\\n\",\" factor\\t\\t\\t\\t      run-parts\\n\",\" faillog\\t\\t\\t      rview\\n\",\" fallocate\\t\\t\\t      rvim\\n\",\" false\\t\\t\\t\\t      savelog\\n\",\" fc-cache\\t\\t\\t      sccmap\\n\",\" fc-cat\\t\\t\\t\\t      scp\\n\",\" fc-conflist\\t\\t\\t      script\\n\",\" fc-list\\t\\t\\t      scriptlive\\n\",\" fc-match\\t\\t\\t      scriptreplay\\n\",\" fc-pattern\\t\\t\\t      sdiff\\n\",\" fc-query\\t\\t\\t      sed\\n\",\" fc-scan\\t\\t\\t      select-editor\\n\",\" fc-validate\\t\\t\\t      sensible-browser\\n\",\" fdp\\t\\t\\t\\t      sensible-editor\\n\",\" ffmpeg\\t\\t\\t\\t      sensible-pager\\n\",\" ffplay\\t\\t\\t\\t      seq\\n\",\" ffprobe\\t\\t\\t      serialver\\n\",\" fgrep\\t\\t\\t\\t      setarch\\n\",\" file\\t\\t\\t\\t      setpriv\\n\",\" file-rename\\t\\t\\t      setsid\\n\",\" fincore\\t\\t\\t      setterm\\n\",\" find\\t\\t\\t\\t      sfdp\\n\",\" findmnt\\t\\t\\t      sftp\\n\",\" fio\\t\\t\\t\\t      sg\\n\",\" fio2gnuplot\\t\\t\\t      sh\\n\",\" fio-btrace2fio\\t\\t\\t      sha1sum\\n\",\" fio-dedupe\\t\\t\\t      sha224sum\\n\",\" fio_generate_plots\\t\\t      sha256sum\\n\",\" fio-genzipf\\t\\t\\t      sha384sum\\n\",\" fio_jsonplus_clat2csv\\t\\t      sha512sum\\n\",\" fio-verify-state\\t\\t      shasum\\n\",\" flock\\t\\t\\t\\t      shmemc++\\n\",\" fmt\\t\\t\\t\\t      shmemcc\\n\",\" fold\\t\\t\\t\\t      shmemCC\\n\",\" free\\t\\t\\t\\t      shmemcxx\\n\",\" funzip\\t\\t\\t\\t      shmemfort\\n\",\" fuser\\t\\t\\t\\t      shmemrun\\n\",\" fusermount\\t\\t\\t      shred\\n\",\" g++\\t\\t\\t\\t      shuf\\n\",\" g++-11\\t\\t\\t\\t      size\\n\",\" gapplication\\t\\t\\t      skill\\n\",\" gc\\t\\t\\t\\t      slabtop\\n\",\" gcc\\t\\t\\t\\t      sleep\\n\",\" gcc-11\\t\\t\\t\\t      slogin\\n\",\" gcc-ar\\t\\t\\t\\t      snice\\n\",\" gcc-ar-11\\t\\t\\t      soelim\\n\",\" gcc-nm\\t\\t\\t\\t      sort\\n\",\" gcc-nm-11\\t\\t\\t      splain\\n\",\" gcc-ranlib\\t\\t\\t      split\\n\",\" gcc-ranlib-11\\t\\t\\t      sponge\\n\",\" gcov\\t\\t\\t\\t      ss\\n\",\" gcov-11\\t\\t\\t      ssh\\n\",\" gcov-dump\\t\\t\\t      ssh-add\\n\",\" gcov-dump-11\\t\\t\\t      ssh-agent\\n\",\" gcov-tool\\t\\t\\t      ssh-argv0\\n\",\" gcov-tool-11\\t\\t\\t      ssh-copy-id\\n\",\" gdal-config\\t\\t\\t      ssh-keygen\\n\",\" gdbus\\t\\t\\t\\t      ssh-keyscan\\n\",\" genbrk\\t\\t\\t\\t      stat\\n\",\" gencat\\t\\t\\t\\t      stdbuf\\n\",\" gencfu\\t\\t\\t\\t      streamzip\\n\",\" gencnval\\t\\t\\t      strings\\n\",\" gendict\\t\\t\\t      strip\\n\",\" genfio\\t\\t\\t\\t      stty\\n\",\" genrb\\t\\t\\t\\t      su\\n\",\" geos-config\\t\\t\\t      sudo\\n\",\" geqn\\t\\t\\t\\t      sudoedit\\n\",\" getconf\\t\\t\\t      sudoreplay\\n\",\" getent\\t\\t\\t\\t      sum\\n\",\" getopt\\t\\t\\t\\t      sync\\n\",\" gfortran\\t\\t\\t      systemctl\\n\",\" gfortran-11\\t\\t\\t      systemd\\n\",\" gio\\t\\t\\t\\t      systemd-analyze\\n\",\" gio-querymodules\\t\\t      systemd-ask-password\\n\",\" git\\t\\t\\t\\t      systemd-cat\\n\",\" git-lfs\\t\\t\\t      systemd-cgls\\n\",\" git-receive-pack\\t\\t      systemd-cgtop\\n\",\" git-shell\\t\\t\\t      systemd-cryptenroll\\n\",\" git-upload-archive\\t\\t      systemd-delta\\n\",\" git-upload-pack\\t\\t      systemd-detect-virt\\n\",\" glib-compile-schemas\\t\\t      systemd-escape\\n\",\" gmake\\t\\t\\t\\t      systemd-id128\\n\",\" gml2gv\\t\\t\\t\\t      systemd-inhibit\\n\",\" gold\\t\\t\\t\\t      systemd-machine-id-setup\\n\",\" google-pprof\\t\\t\\t      systemd-mount\\n\",\" gpasswd\\t\\t\\t      systemd-notify\\n\",\" gpg\\t\\t\\t\\t      systemd-path\\n\",\" gpg2\\t\\t\\t\\t      systemd-run\\n\",\" gpg-agent\\t\\t\\t      systemd-socket-activate\\n\",\" gpgcompose\\t\\t\\t      systemd-stdio-bridge\\n\",\" gpgconf\\t\\t\\t      systemd-sysext\\n\",\" gpg-connect-agent\\t\\t      systemd-sysusers\\n\",\" gpgparsemail\\t\\t\\t      systemd-tmpfiles\\n\",\" gpgsm\\t\\t\\t\\t      systemd-tty-ask-password-agent\\n\",\" gpgsplit\\t\\t\\t      systemd-umount\\n\",\" gpgtar\\t\\t\\t\\t      tabs\\n\",\" gpgv\\t\\t\\t\\t      tac\\n\",\" gpg-wks-server\\t\\t\\t      tail\\n\",\" gpg-zip\\t\\t\\t      tar\\n\",\" gpic\\t\\t\\t\\t      taskset\\n\",\" gprof\\t\\t\\t\\t      tbl\\n\",\" graphml2gv\\t\\t\\t      tcldocstrip\\n\",\" grep\\t\\t\\t\\t      tclsh\\n\",\" gresource\\t\\t\\t      tclsh8.6\\n\",\" groff\\t\\t\\t\\t      tcltk-depends\\n\",\" grog\\t\\t\\t\\t      tee\\n\",\" grops\\t\\t\\t\\t      tempfile\\n\",\" grotty\\t\\t\\t\\t      test\\n\",\" groups\\t\\t\\t\\t      tic\\n\",\" gsettings\\t\\t\\t      timedatectl\\n\",\" gtbl\\t\\t\\t\\t      timeout\\n\",\" gtk-update-icon-cache\\t\\t      tload\\n\",\" gunzip\\t\\t\\t\\t      tmux\\n\",\" gv2gml\\t\\t\\t\\t      toe\\n\",\" gv2gxl\\t\\t\\t\\t      top\\n\",\" gvcolor\\t\\t\\t      touch\\n\",\" gvgen\\t\\t\\t\\t      tput\\n\",\" gvmap\\t\\t\\t\\t      tr\\n\",\" gvmap.sh\\t\\t\\t      tred\\n\",\" gvpack\\t\\t\\t\\t      troff\\n\",\" gvpr\\t\\t\\t\\t      true\\n\",\" gxl2dot\\t\\t\\t      truncate\\n\",\" gxl2gv\\t\\t\\t\\t      ts\\n\",\" gzexe\\t\\t\\t\\t      tset\\n\",\" gzip\\t\\t\\t\\t      tsort\\n\",\" h2ph\\t\\t\\t\\t      tty\\n\",\" h2xs\\t\\t\\t\\t      twopi\\n\",\" h5c++\\t\\t\\t\\t      tzselect\\n\",\" h5cc\\t\\t\\t\\t      ucf\\n\",\" h5fc\\t\\t\\t\\t      ucfq\\n\",\" hardlink\\t\\t\\t      ucfr\\n\",\" hd\\t\\t\\t\\t      uclampset\\n\",\" head\\t\\t\\t\\t      uconv\\n\",\" helpztags\\t\\t\\t      ul\\n\",\" hexdump\\t\\t\\t      ulockmgr_server\\n\",\" hostid\\t\\t\\t\\t      umount\\n\",\" hostname\\t\\t\\t      uname\\n\",\" hostnamectl\\t\\t\\t      uncompress\\n\",\" i386\\t\\t\\t\\t      unexpand\\n\",\" iconv\\t\\t\\t\\t      unflatten\\n\",\" icuexportdata\\t\\t\\t      uniq\\n\",\" icuinfo\\t\\t\\t      unlink\\n\",\" id\\t\\t\\t\\t      unlzma\\n\",\" ifdata\\t\\t\\t\\t      unpack200\\n\",\" ifnames\\t\\t\\t      unrar\\n\",\" ifne\\t\\t\\t\\t      unrar-nonfree\\n\",\" infocmp\\t\\t\\t      unshare\\n\",\" infotocap\\t\\t\\t      unxz\\n\",\" inspect\\t\\t\\t      unzip\\n\",\" install\\t\\t\\t      unzipsfx\\n\",\" instmodsh\\t\\t\\t      update-alternatives\\n\",\" ionice\\t\\t\\t\\t      update-mime-database\\n\",\" ip\\t\\t\\t\\t      uptime\\n\",\" ipcmk\\t\\t\\t\\t      users\\n\",\" ipcrm\\t\\t\\t\\t      utmpdump\\n\",\" ipcs\\t\\t\\t\\t      vdir\\n\",\" ischroot\\t\\t\\t      vi\\n\",\" isutf8\\t\\t\\t\\t      vidir\\n\",\" jaotc\\t\\t\\t\\t      view\\n\",\" jar\\t\\t\\t\\t      vim\\n\",\" jarsigner\\t\\t\\t      vim.basic\\n\",\" java\\t\\t\\t\\t      vimdiff\\n\",\" javac\\t\\t\\t\\t      vimdot\\n\",\" javadoc\\t\\t\\t      vimtutor\\n\",\" javap\\t\\t\\t\\t      vipe\\n\",\" jcmd\\t\\t\\t\\t      vmstat\\n\",\" jdb\\t\\t\\t\\t      w\\n\",\" jdeprscan\\t\\t\\t      wall\\n\",\" jdeps\\t\\t\\t\\t      watch\\n\",\" jexec\\t\\t\\t\\t      watchgnupg\\n\",\" jfr\\t\\t\\t\\t      wc\\n\",\" jhsdb\\t\\t\\t\\t      wdctl\\n\",\" jimage\\t\\t\\t\\t      wget\\n\",\" jinfo\\t\\t\\t\\t      whatis\\n\",\" jjs\\t\\t\\t\\t      whereis\\n\",\" jlink\\t\\t\\t\\t      which\\n\",\" jmap\\t\\t\\t\\t      which.debianutils\\n\",\" jmod\\t\\t\\t\\t      who\\n\",\" join\\t\\t\\t\\t      whoami\\n\",\" journalctl\\t\\t\\t      wish\\n\",\" jps\\t\\t\\t\\t      wish8.6\\n\",\" jrunscript\\t\\t\\t      write\\n\",\" jshell\\t\\t\\t\\t      write.ul\\n\",\" json_pp\\t\\t\\t      X11\\n\",\" jstack\\t\\t\\t\\t      x86_64\\n\",\" jstat\\t\\t\\t\\t      x86_64-linux-gnu-addr2line\\n\",\" jstatd\\t\\t\\t\\t      x86_64-linux-gnu-ar\\n\",\" kbxutil\\t\\t\\t      x86_64-linux-gnu-as\\n\",\" kernel-install\\t\\t\\t      x86_64-linux-gnu-c++filt\\n\",\" keyring\\t\\t\\t      x86_64-linux-gnu-cpp\\n\",\" keytool\\t\\t\\t      x86_64-linux-gnu-cpp-11\\n\",\" kill\\t\\t\\t\\t      x86_64-linux-gnu-dwp\\n\",\" killall\\t\\t\\t      x86_64-linux-gnu-elfedit\\n\",\" kmod\\t\\t\\t\\t      x86_64-linux-gnu-g++\\n\",\" krb5-config\\t\\t\\t      x86_64-linux-gnu-g++-11\\n\",\" krb5-config.mit\\t\\t      x86_64-linux-gnu-gcc\\n\",\" last\\t\\t\\t\\t      x86_64-linux-gnu-gcc-11\\n\",\" lastb\\t\\t\\t\\t      x86_64-linux-gnu-gcc-ar\\n\",\" lastlog\\t\\t\\t      x86_64-linux-gnu-gcc-ar-11\\n\",\" lcf\\t\\t\\t\\t      x86_64-linux-gnu-gcc-nm\\n\",\" lckdo\\t\\t\\t\\t      x86_64-linux-gnu-gcc-nm-11\\n\",\" ld\\t\\t\\t\\t      x86_64-linux-gnu-gcc-ranlib\\n\",\" ld.bfd\\t\\t\\t\\t      x86_64-linux-gnu-gcc-ranlib-11\\n\",\" ldd\\t\\t\\t\\t      x86_64-linux-gnu-gcov\\n\",\" ld.gold\\t\\t\\t      x86_64-linux-gnu-gcov-11\\n\",\" lefty\\t\\t\\t\\t      x86_64-linux-gnu-gcov-dump\\n\",\" less\\t\\t\\t\\t      x86_64-linux-gnu-gcov-dump-11\\n\",\" lessecho\\t\\t\\t      x86_64-linux-gnu-gcov-tool\\n\",\" lessfile\\t\\t\\t      x86_64-linux-gnu-gcov-tool-11\\n\",\" lesskey\\t\\t\\t      x86_64-linux-gnu-gfortran\\n\",\" lesspipe\\t\\t\\t      x86_64-linux-gnu-gfortran-11\\n\",\" lexgrog\\t\\t\\t      x86_64-linux-gnu-gold\\n\",\" libnetcfg\\t\\t\\t      x86_64-linux-gnu-gprof\\n\",\" libpng16-config\\t\\t      x86_64-linux-gnu-ld\\n\",\" libpng-config\\t\\t\\t      x86_64-linux-gnu-ld.bfd\\n\",\" link\\t\\t\\t\\t      x86_64-linux-gnu-ld.gold\\n\",\" linux32\\t\\t\\t      x86_64-linux-gnu-lto-dump-11\\n\",\" linux64\\t\\t\\t      x86_64-linux-gnu-nm\\n\",\" ln\\t\\t\\t\\t      x86_64-linux-gnu-objcopy\\n\",\" lneato\\t\\t\\t\\t      x86_64-linux-gnu-objdump\\n\",\" lnstat\\t\\t\\t\\t      x86_64-linux-gnu-pkg-config\\n\",\" locale\\t\\t\\t\\t      x86_64-linux-gnu-python3.10-config\\n\",\" locale-check\\t\\t\\t      x86_64-linux-gnu-python3-config\\n\",\" localectl\\t\\t\\t      x86_64-linux-gnu-ranlib\\n\",\" localedef\\t\\t\\t      x86_64-linux-gnu-readelf\\n\",\" logger\\t\\t\\t\\t      x86_64-linux-gnu-size\\n\",\" login\\t\\t\\t\\t      x86_64-linux-gnu-strings\\n\",\" loginctl\\t\\t\\t      x86_64-linux-gnu-strip\\n\",\" logname\\t\\t\\t      xargs\\n\",\" look\\t\\t\\t\\t      xauth\\n\",\" ls\\t\\t\\t\\t      xdg-desktop-icon\\n\",\" lsattr\\t\\t\\t\\t      xdg-desktop-menu\\n\",\" lsblk\\t\\t\\t\\t      xdg-email\\n\",\" lsb_release\\t\\t\\t      xdg-icon-resource\\n\",\" lscpu\\t\\t\\t\\t      xdg-mime\\n\",\" lsipc\\t\\t\\t\\t      xdg-open\\n\",\" lslocks\\t\\t\\t      xdg-screensaver\\n\",\" lslogins\\t\\t\\t      xdg-settings\\n\",\" lsmem\\t\\t\\t\\t      xml2-config\\n\",\" lsmod\\t\\t\\t\\t      xsubpp\\n\",\" lsns\\t\\t\\t\\t      xxd\\n\",\" lsof\\t\\t\\t\\t      xz\\n\",\" lspgpot\\t\\t\\t      xzcat\\n\",\" lto-dump-11\\t\\t\\t      xzcmp\\n\",\" lzcat\\t\\t\\t\\t      xzdiff\\n\",\" lzcmp\\t\\t\\t\\t      xzegrep\\n\",\" lzdiff\\t\\t\\t\\t      xzfgrep\\n\",\" lzegrep\\t\\t\\t      xzgrep\\n\",\" lzfgrep\\t\\t\\t      xzless\\n\",\" lzgrep\\t\\t\\t\\t      xzmore\\n\",\" lzless\\t\\t\\t\\t      yes\\n\",\" lzma\\t\\t\\t\\t      ypdomainname\\n\",\" lzmainfo\\t\\t\\t      zcat\\n\",\" lzmore\\t\\t\\t\\t      zcmp\\n\",\" m4\\t\\t\\t\\t      zdiff\\n\",\" make\\t\\t\\t\\t      zdump\\n\",\" makeconv\\t\\t\\t      zegrep\\n\",\" make-first-existing-target\\t      zfgrep\\n\",\" man\\t\\t\\t\\t      zforce\\n\",\" mandb\\t\\t\\t\\t      zgrep\\n\",\" manpath\\t\\t\\t      zip\\n\",\" man.REAL\\t\\t\\t      zipcloak\\n\",\" man-recode\\t\\t\\t      zipdetails\\n\",\" mawk\\t\\t\\t\\t      zipgrep\\n\",\" mcookie\\t\\t\\t      zipinfo\\n\",\" md5sum\\t\\t\\t\\t      zipnote\\n\",\" md5sum.textutils\\t\\t      zipsplit\\n\",\" mesg\\t\\t\\t\\t      zless\\n\",\" migrate-pubring-from-classic-gpg     zmore\\n\",\" mingle\\t\\t\\t\\t      znew\\n\",\" mispipe\\t\\t\\t      zrun\\n\"]}]},{\"cell_type\":\"code\",\"source\":[\"# Run this cell to mount your Google Drive.\\n\",\"from google.colab import drive\\n\",\"drive.mount('/content/drive')\"],\"metadata\":{\"colab\":{\"base_uri\":\"https://localhost:8080/\"},\"id\":\"TUKn3WbiRDnv\",\"executionInfo\":{\"status\":\"ok\",\"timestamp\":1729215393737,\"user_tz\":-480,\"elapsed\":28318,\"user\":{\"displayName\":\"Ain Aqilah Basirun\",\"userId\":\"00041838481199485590\"}},\"outputId\":\"4b6ae633-6524-494a-a66b-b835e0437035\"},\"execution_count\":3,\"outputs\":[{\"output_type\":\"stream\",\"name\":\"stdout\",\"text\":[\"Drive already mounted at /content/drive; to attempt to forcibly remount, call drive.mount(\\\"/content/drive\\\", force_remount=True).\\n\"]}]},{\"cell_type\":\"code\",\"source\":[\"!ls \\\"/content/drive/My Drive/Colab Notebooks\\\"\"],\"metadata\":{\"colab\":{\"base_uri\":\"https://localhost:8080/\"},\"id\":\"tq4R1vqYRTmi\",\"executionInfo\":{\"status\":\"ok\",\"timestamp\":1729215424989,\"user_tz\":-480,\"elapsed\":396,\"user\":{\"displayName\":\"Ain Aqilah Basirun\",\"userId\":\"00041838481199485590\"}},\"outputId\":\"9ed45f94-b880-4e71-c3b3-aa07b4ebbb7a\"},\"execution_count\":4,\"outputs\":[{\"output_type\":\"stream\",\"name\":\"stdout\",\"text\":[\"'Copy of MyFirstColabNotebook (1).ipynb'   MyFirstColabNotebook.ipynb\\n\",\"'Copy of MyFirstColabNotebook.ipynb'\\t   Untitled0.ipynb\\n\"]}]},{\"cell_type\":\"code\",\"source\":[\"print(\\\"Welcome to TutorialsPoint!\\\")\"],\"metadata\":{\"colab\":{\"base_uri\":\"https://localhost:8080/\"},\"id\":\"jDjEnhtHRdWt\",\"executionInfo\":{\"status\":\"ok\",\"timestamp\":1729215462370,\"user_tz\":-480,\"elapsed\":369,\"user\":{\"displayName\":\"Ain Aqilah Basirun\",\"userId\":\"00041838481199485590\"}},\"outputId\":\"4694a2e0-9419-43e7-f4ac-5a3556de1514\"},\"execution_count\":5,\"outputs\":[{\"output_type\":\"stream\",\"name\":\"stdout\",\"text\":[\"Welcome to TutorialsPoint!\\n\"]}]},{\"cell_type\":\"code\",\"source\":[\"import numpy as np\\n\",\"from matplotlib import pyplot as plt\\n\",\"y = np.random.randn(100)\\n\",\"x = [x for x in range(len(y))]\\n\",\"plt.plot(x, y, '-')\\n\",\"plt.fill_between(x, y, 200, where=(y > 195), facecolor='g', alpha=0.6)\\n\",\"plt.title(\\\"Sample Plot\\\")\\n\",\"plt.show()\"],\"metadata\":{\"colab\":{\"base_uri\":\"https://localhost:8080/\",\"height\":452},\"id\":\"8ahGs61KRh_m\",\"executionInfo\":{\"status\":\"ok\",\"timestamp\":1729215488119,\"user_tz\":-480,\"elapsed\":1010,\"user\":{\"displayName\":\"Ain Aqilah Basirun\",\"userId\":\"00041838481199485590\"}},\"outputId\":\"2d09bb79-42ab-46f2-f60f-dd6dacc11ad0\"},\"execution_count\":6,\"outputs\":[{\"output_type\":\"display_data\",\"data\":{\"text/plain\":[\"<Figure size 640x480 with 1 Axes>\"],\"image/png\":\"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\\n\"},\"metadata\":{}}]},{\"cell_type\":\"code\",\"source\":[\"import torch\"],\"metadata\":{\"id\":\"KFnvBnFxTdxP\",\"executionInfo\":{\"status\":\"ok\",\"timestamp\":1729215998665,\"user_tz\":-480,\"elapsed\":7164,\"user\":{\"displayName\":\"Ain Aqilah Basirun\",\"userId\":\"00041838481199485590\"}}},\"execution_count\":7,\"outputs\":[]},{\"cell_type\":\"code\",\"source\":[\"Tensor = torch.Tensor\\n\"],\"metadata\":{\"id\":\"Ixlql2F_TglI\",\"executionInfo\":{\"status\":\"ok\",\"timestamp\":1729216077637,\"user_tz\":-480,\"elapsed\":385,\"user\":{\"displayName\":\"Ain Aqilah Basirun\",\"userId\":\"00041838481199485590\"}}},\"execution_count\":9,\"outputs\":[]},{\"cell_type\":\"code\",\"source\":[\"Tensor = torch.cos(Tensor([0, 1, 2, 3, 4, 5]))\\n\",\"print(Tensor)\"],\"metadata\":{\"colab\":{\"base_uri\":\"https://localhost:8080/\"},\"id\":\"wAWElooQTmHS\",\"executionInfo\":{\"status\":\"ok\",\"timestamp\":1729216155417,\"user_tz\":-480,\"elapsed\":383,\"user\":{\"displayName\":\"Ain Aqilah Basirun\",\"userId\":\"00041838481199485590\"}},\"outputId\":\"d49238be-6bad-46b5-e55f-6fa612b570e4\"},\"execution_count\":12,\"outputs\":[{\"output_type\":\"stream\",\"name\":\"stdout\",\"text\":[\"tensor([ 1.0000,  0.5403, -0.4161, -0.9900, -0.6536,  0.2837])\\n\"]}]},{\"cell_type\":\"code\",\"source\":[\"%ldir\"],\"metadata\":{\"colab\":{\"base_uri\":\"https://localhost:8080/\"},\"id\":\"iSMPv_TbUAVA\",\"executionInfo\":{\"status\":\"ok\",\"timestamp\":1729216385111,\"user_tz\":-480,\"elapsed\":748,\"user\":{\"displayName\":\"Ain Aqilah Basirun\",\"userId\":\"00041838481199485590\"}},\"outputId\":\"a4413a46-5a04-4f8a-b79b-64471550bfaf\"},\"execution_count\":13,\"outputs\":[{\"output_type\":\"stream\",\"name\":\"stdout\",\"text\":[\"drwx------ 6 root 4096 Oct 18 01:27 \\u001b[0m\\u001b[01;34mdrive\\u001b[0m/\\n\",\"drwxr-xr-x 1 root 4096 Oct 14 13:23 \\u001b[01;34msample_data\\u001b[0m/\\n\"]}]},{\"cell_type\":\"code\",\"source\":[\"%history\"],\"metadata\":{\"colab\":{\"base_uri\":\"https://localhost:8080/\"},\"id\":\"BgYB7ZJ4U_Jc\",\"executionInfo\":{\"status\":\"ok\",\"timestamp\":1729216399469,\"user_tz\":-480,\"elapsed\":370,\"user\":{\"displayName\":\"Ain Aqilah Basirun\",\"userId\":\"00041838481199485590\"}},\"outputId\":\"0d46c102-9da1-40ee-b82a-e8cca4146296\"},\"execution_count\":14,\"outputs\":[{\"output_type\":\"stream\",\"name\":\"stdout\",\"text\":[\"!python3 \\\"/content/drive/My Drive/Colab Notebooks/MyFirstColabNotebook.ipynb\\\"\\n\",\"!ls /bin\\n\",\"# Run this cell to mount your Google Drive.\\n\",\"from google.colab import drive\\n\",\"drive.mount('/content/drive')\\n\",\"!ls \\\"/content/drive/My Drive/Colab Notebooks\\\"\\n\",\"print(\\\"Welcome to TutorialsPoint!\\\")\\n\",\"import numpy as np\\n\",\"from matplotlib import pyplot as plt\\n\",\"y = np.random.randn(100)\\n\",\"x = [x for x in range(len(y))]\\n\",\"plt.plot(x, y, '-')\\n\",\"plt.fill_between(x, y, 200, where=(y > 195), facecolor='g', alpha=0.6)\\n\",\"plt.title(\\\"Sample Plot\\\")\\n\",\"plt.show()\\n\",\"import torch\\n\",\"Tensor = torch.\\n\",\"Tensor = torch.Tensor\\n\",\"Tensor = torch.cos(Tensor(np.pi))\\n\",\"Tensor = torch.cos(Tensor([0, 1, 2, 3, 4, 5]))\\n\",\"print(Tensor\\n\",\"Tensor = torch.cos(Tensor([0, 1, 2, 3, 4, 5]))\\n\",\"print(Tensor)\\n\",\"%ldir\\n\",\"%history\\n\"]}]},{\"cell_type\":\"code\",\"source\":[\"%%html\\n\",\"<marquee style='width: 50%; color: Green;'><b>Welcome to TutorialsPoint</b></marquee>\"],\"metadata\":{\"colab\":{\"base_uri\":\"https://localhost:8080/\",\"height\":39},\"id\":\"4M6F4QY6VEDn\",\"executionInfo\":{\"status\":\"ok\",\"timestamp\":1729216484767,\"user_tz\":-480,\"elapsed\":370,\"user\":{\"displayName\":\"Ain Aqilah Basirun\",\"userId\":\"00041838481199485590\"}},\"outputId\":\"9a581d4f-fc5d-46c6-ef88-e9c6ba2f2759\"},\"execution_count\":15,\"outputs\":[{\"output_type\":\"display_data\",\"data\":{\"text/plain\":[\"<IPython.core.display.HTML object>\"],\"text/html\":[\"<marquee style='width: 50%; color: Green;'><b>Welcome to TutorialsPoint</b></marquee>\\n\"]},\"metadata\":{}}]},{\"cell_type\":\"code\",\"source\":[\"%%html\\n\",\"<svg xmlns=\\\"http://www.w3.org/2000/svg\\\" viewBox=\\\"0 0 600 400\\\" width=\\\"400\\\" height=\\\"400\\\">\\n\",\"<rect x=\\\"10\\\" y=\\\"00\\\" width=\\\"300\\\" height=\\\"100\\\" rx=\\\"0\\\" style=\\\"fill:orange; stroke:black; fill-opacity:1.0\\\" />\\n\",\"<rect x=\\\"10\\\" y=\\\"100\\\" width=\\\"300\\\" height=\\\"100\\\" rx=\\\"0\\\" style=\\\"fill:white; stroke:black; fill-opacity:1.0;\\\" />\\n\",\"<rect x=\\\"10\\\" y=\\\"200\\\" width=\\\"300\\\" height=\\\"100\\\" rx=\\\"0\\\" style=\\\"fill:green; stroke:black; fill-opacity:1.0;\\\" />\\n\",\"</svg>\"],\"metadata\":{\"colab\":{\"base_uri\":\"https://localhost:8080/\",\"height\":422},\"id\":\"w3lcOnfCVZHi\",\"executionInfo\":{\"status\":\"ok\",\"timestamp\":1729216547535,\"user_tz\":-480,\"elapsed\":396,\"user\":{\"displayName\":\"Ain Aqilah Basirun\",\"userId\":\"00041838481199485590\"}},\"outputId\":\"67bc4904-ddfd-48c2-8483-c10c2b9f0fcb\"},\"execution_count\":16,\"outputs\":[{\"output_type\":\"display_data\",\"data\":{\"text/plain\":[\"<IPython.core.display.HTML object>\"],\"text/html\":[\"<svg xmlns=\\\"http://www.w3.org/2000/svg\\\" viewBox=\\\"0 0 600 400\\\" width=\\\"400\\\" height=\\\"400\\\">\\n\",\"<rect x=\\\"10\\\" y=\\\"00\\\" width=\\\"300\\\" height=\\\"100\\\" rx=\\\"0\\\" style=\\\"fill:orange; stroke:black; fill-opacity:1.0\\\" />\\n\",\"<rect x=\\\"10\\\" y=\\\"100\\\" width=\\\"300\\\" height=\\\"100\\\" rx=\\\"0\\\" style=\\\"fill:white; stroke:black; fill-opacity:1.0;\\\" />\\n\",\"<rect x=\\\"10\\\" y=\\\"200\\\" width=\\\"300\\\" height=\\\"100\\\" rx=\\\"0\\\" style=\\\"fill:green; stroke:black; fill-opacity:1.0;\\\" />\\n\",\"</svg>\\n\"]},\"metadata\":{}}]},{\"cell_type\":\"code\",\"source\":[\"%lsmagic\"],\"metadata\":{\"colab\":{\"base_uri\":\"https://localhost:8080/\",\"height\":295},\"id\":\"TGASH4tZVocH\",\"executionInfo\":{\"status\":\"ok\",\"timestamp\":1729216568425,\"user_tz\":-480,\"elapsed\":16,\"user\":{\"displayName\":\"Ain Aqilah Basirun\",\"userId\":\"00041838481199485590\"}},\"outputId\":\"8866d0a4-14d9-42ee-bfd7-7a85840abb3c\"},\"execution_count\":17,\"outputs\":[{\"output_type\":\"execute_result\",\"data\":{\"text/plain\":[\"Available line magics:\\n\",\"%alias  %alias_magic  %autoawait  %autocall  %automagic  %autosave  %bookmark  %cat  %cd  %clear  %colors  %conda  %config  %connect_info  %cp  %debug  %dhist  %dirs  %doctest_mode  %ed  %edit  %env  %gui  %hist  %history  %killbgscripts  %ldir  %less  %lf  %lk  %ll  %load  %load_ext  %loadpy  %logoff  %logon  %logstart  %logstate  %logstop  %ls  %lsmagic  %lx  %macro  %magic  %man  %matplotlib  %mkdir  %more  %mv  %notebook  %page  %pastebin  %pdb  %pdef  %pdoc  %pfile  %pinfo  %pinfo2  %pip  %popd  %pprint  %precision  %prun  %psearch  %psource  %pushd  %pwd  %pycat  %pylab  %qtconsole  %quickref  %recall  %rehashx  %reload_ext  %rep  %rerun  %reset  %reset_selective  %rm  %rmdir  %run  %save  %sc  %set_env  %shell  %store  %sx  %system  %tb  %tensorflow_version  %time  %timeit  %unalias  %unload_ext  %who  %who_ls  %whos  %xdel  %xmode\\n\",\"\\n\",\"Available cell magics:\\n\",\"%%!  %%HTML  %%SVG  %%bash  %%bigquery  %%capture  %%debug  %%file  %%html  %%javascript  %%js  %%latex  %%markdown  %%perl  %%prun  %%pypy  %%python  %%python2  %%python3  %%ruby  %%script  %%sh  %%shell  %%svg  %%sx  %%system  %%time  %%timeit  %%writefile\\n\",\"\\n\",\"Automagic is ON, % prefix IS NOT needed for line magics.\"],\"application/json\":{\"line\":{\"automagic\":\"AutoMagics\",\"autocall\":\"AutoMagics\",\"alias_magic\":\"BasicMagics\",\"lsmagic\":\"BasicMagics\",\"magic\":\"BasicMagics\",\"page\":\"BasicMagics\",\"pprint\":\"BasicMagics\",\"colors\":\"BasicMagics\",\"xmode\":\"BasicMagics\",\"quickref\":\"BasicMagics\",\"doctest_mode\":\"BasicMagics\",\"gui\":\"BasicMagics\",\"precision\":\"BasicMagics\",\"notebook\":\"BasicMagics\",\"save\":\"CodeMagics\",\"pastebin\":\"CodeMagics\",\"loadpy\":\"CodeMagics\",\"load\":\"CodeMagics\",\"edit\":\"KernelMagics\",\"config\":\"ConfigMagics\",\"prun\":\"ExecutionMagics\",\"pdb\":\"ExecutionMagics\",\"debug\":\"ExecutionMagics\",\"tb\":\"ExecutionMagics\",\"run\":\"ExecutionMagics\",\"timeit\":\"ExecutionMagics\",\"time\":\"ExecutionMagics\",\"macro\":\"ExecutionMagics\",\"load_ext\":\"ExtensionMagics\",\"unload_ext\":\"ExtensionMagics\",\"reload_ext\":\"ExtensionMagics\",\"history\":\"HistoryMagics\",\"recall\":\"HistoryMagics\",\"rerun\":\"HistoryMagics\",\"logstart\":\"LoggingMagics\",\"logstop\":\"LoggingMagics\",\"logoff\":\"LoggingMagics\",\"logon\":\"LoggingMagics\",\"logstate\":\"LoggingMagics\",\"pinfo\":\"NamespaceMagics\",\"pinfo2\":\"NamespaceMagics\",\"pdef\":\"NamespaceMagics\",\"pdoc\":\"NamespaceMagics\",\"psource\":\"NamespaceMagics\",\"pfile\":\"NamespaceMagics\",\"psearch\":\"NamespaceMagics\",\"who_ls\":\"NamespaceMagics\",\"who\":\"NamespaceMagics\",\"whos\":\"NamespaceMagics\",\"reset\":\"NamespaceMagics\",\"reset_selective\":\"NamespaceMagics\",\"xdel\":\"NamespaceMagics\",\"alias\":\"OSMagics\",\"unalias\":\"OSMagics\",\"rehashx\":\"OSMagics\",\"pwd\":\"OSMagics\",\"cd\":\"OSMagics\",\"env\":\"OSMagics\",\"set_env\":\"OSMagics\",\"pushd\":\"OSMagics\",\"popd\":\"OSMagics\",\"dirs\":\"OSMagics\",\"dhist\":\"OSMagics\",\"sc\":\"OSMagics\",\"sx\":\"OSMagics\",\"system\":\"OSMagics\",\"bookmark\":\"OSMagics\",\"pycat\":\"OSMagics\",\"pip\":\"Other\",\"conda\":\"PackagingMagics\",\"matplotlib\":\"PylabMagics\",\"pylab\":\"PylabMagics\",\"killbgscripts\":\"ScriptMagics\",\"autoawait\":\"AsyncMagics\",\"ed\":\"Other\",\"hist\":\"Other\",\"rep\":\"Other\",\"clear\":\"KernelMagics\",\"less\":\"KernelMagics\",\"more\":\"KernelMagics\",\"man\":\"KernelMagics\",\"connect_info\":\"KernelMagics\",\"qtconsole\":\"KernelMagics\",\"autosave\":\"KernelMagics\",\"mkdir\":\"Other\",\"rmdir\":\"Other\",\"mv\":\"Other\",\"rm\":\"Other\",\"cp\":\"Other\",\"cat\":\"Other\",\"ls\":\"Other\",\"ll\":\"Other\",\"lf\":\"Other\",\"lk\":\"Other\",\"ldir\":\"Other\",\"lx\":\"Other\",\"store\":\"StoreMagics\",\"shell\":\"Other\",\"tensorflow_version\":\"Other\"},\"cell\":{\"js\":\"DisplayMagics\",\"javascript\":\"DisplayMagics\",\"latex\":\"DisplayMagics\",\"svg\":\"DisplayMagics\",\"html\":\"DisplayMagics\",\"markdown\":\"DisplayMagics\",\"prun\":\"ExecutionMagics\",\"debug\":\"ExecutionMagics\",\"timeit\":\"ExecutionMagics\",\"time\":\"ExecutionMagics\",\"capture\":\"ExecutionMagics\",\"sx\":\"OSMagics\",\"system\":\"OSMagics\",\"!\":\"OSMagics\",\"writefile\":\"OSMagics\",\"script\":\"ScriptMagics\",\"sh\":\"Other\",\"bash\":\"Other\",\"perl\":\"Other\",\"ruby\":\"Other\",\"python\":\"Other\",\"python2\":\"Other\",\"python3\":\"Other\",\"pypy\":\"Other\",\"SVG\":\"Other\",\"HTML\":\"Other\",\"file\":\"Other\",\"bigquery\":\"Other\",\"shell\":\"Other\"}}},\"metadata\":{},\"execution_count\":17}]},{\"cell_type\":\"code\",\"source\":[\"import time\\n\",\"print(time.ctime())\\n\",\"time.sleep(5)\\n\",\"print (time.ctime())\"],\"metadata\":{\"colab\":{\"base_uri\":\"https://localhost:8080/\"},\"id\":\"Y11IKWftVtk_\",\"executionInfo\":{\"status\":\"ok\",\"timestamp\":1729216603808,\"user_tz\":-480,\"elapsed\":5374,\"user\":{\"displayName\":\"Ain Aqilah Basirun\",\"userId\":\"00041838481199485590\"}},\"outputId\":\"d517a243-b4a0-4680-937a-68d6c9876b96\"},\"execution_count\":18,\"outputs\":[{\"output_type\":\"stream\",\"name\":\"stdout\",\"text\":[\"Fri Oct 18 01:56:38 2024\\n\",\"Fri Oct 18 01:56:43 2024\\n\"]}]},{\"cell_type\":\"markdown\",\"source\":[],\"metadata\":{\"id\":\"3m9QavDPXBRP\"}},{\"cell_type\":\"code\",\"source\":[\"# @title Form\\n\",\"Sleeptime = 2 # @param {\\\"type\\\":\\\"integer\\\"}\"],\"metadata\":{\"id\":\"cljw5P7pXxLE\",\"executionInfo\":{\"status\":\"ok\",\"timestamp\":1729217787371,\"user_tz\":-480,\"elapsed\":395,\"user\":{\"displayName\":\"Ain Aqilah Basirun\",\"userId\":\"00041838481199485590\"}}},\"execution_count\":25,\"outputs\":[]},{\"cell_type\":\"code\",\"source\":[\"import time\\n\",\"print(time.ctime())\\n\",\"time.sleep(Sleeptime)\\n\",\"print (time.ctime())\"],\"metadata\":{\"colab\":{\"base_uri\":\"https://localhost:8080/\"},\"id\":\"aImXDgguXyhn\",\"executionInfo\":{\"status\":\"ok\",\"timestamp\":1729217792274,\"user_tz\":-480,\"elapsed\":2373,\"user\":{\"displayName\":\"Ain Aqilah Basirun\",\"userId\":\"00041838481199485590\"}},\"outputId\":\"f784e759-6a3a-4db3-9603-57129cc634fd\"},\"execution_count\":26,\"outputs\":[{\"output_type\":\"stream\",\"name\":\"stdout\",\"text\":[\"Fri Oct 18 02:16:29 2024\\n\",\"Fri Oct 18 02:16:31 2024\\n\"]}]},{\"cell_type\":\"code\",\"source\":[],\"metadata\":{\"id\":\"ivD9yw_oac4n\"},\"execution_count\":null,\"outputs\":[]}]}\n",
            "NameError: name 'null' is not defined\n"
          ]
        }
      ]
    },
    {
      "cell_type": "code",
      "source": [
        "!ls /bin"
      ],
      "metadata": {
        "colab": {
          "base_uri": "https://localhost:8080/"
        },
        "id": "mhHJkCW1PZse",
        "outputId": "c6d7d163-937d-4281-9241-25299e476357"
      },
      "execution_count": 39,
      "outputs": [
        {
          "output_type": "stream",
          "name": "stdout",
          "text": [
            "'['\t\t\t\t      mkdir\n",
            " 7z\t\t\t\t      mkfifo\n",
            " 7za\t\t\t\t      mknod\n",
            " 7zr\t\t\t\t      mktemp\n",
            " aclocal\t\t\t      mm2gv\n",
            " aclocal-1.16\t\t\t      more\n",
            " acyclic\t\t\t      mount\n",
            " add-apt-repository\t\t      mountpoint\n",
            " addpart\t\t\t      mpexpand\n",
            " addr2line\t\t\t      mpic++\n",
            " aggregate_profile\t\t      mpicc\n",
            " apropos\t\t\t      mpiCC\n",
            " apt\t\t\t\t      mpicc.openmpi\n",
            " apt-add-repository\t\t      mpiCC.openmpi\n",
            " apt-cache\t\t\t      mpic++.openmpi\n",
            " apt-cdrom\t\t\t      mpicxx\n",
            " apt-config\t\t\t      mpicxx.openmpi\n",
            " apt-extracttemplates\t\t      mpiexec\n",
            " apt-ftparchive\t\t\t      mpiexec.openmpi\n",
            " apt-get\t\t\t      mpif77\n",
            " apt-key\t\t\t      mpif77.openmpi\n",
            " apt-mark\t\t\t      mpif90\n",
            " apt-sortpkgs\t\t\t      mpif90.openmpi\n",
            " ar\t\t\t\t      mpifort\n",
            " arch\t\t\t\t      mpifort.openmpi\n",
            " as\t\t\t\t      mpijavac\n",
            " asan_symbolize\t\t\t      mpijavac.pl\n",
            " asan_symbolize-14\t\t      mpirun\n",
            " autoconf\t\t\t      mpirun.openmpi\n",
            " autoheader\t\t\t      mv\n",
            " autom4te\t\t\t      mysql_config\n",
            " automake\t\t\t      namei\n",
            " automake-1.16\t\t\t      nawk\n",
            " autoreconf\t\t\t      nc-config\n",
            " autoscan\t\t\t      ncurses5-config\n",
            " autoupdate\t\t\t      ncurses6-config\n",
            " awk\t\t\t\t      ncursesw5-config\n",
            " b2\t\t\t\t      ncursesw6-config\n",
            " b2sum\t\t\t\t      neato\n",
            " base32\t\t\t\t      neqn\n",
            " base64\t\t\t\t      networkctl\n",
            " basename\t\t\t      newgrp\n",
            " basenc\t\t\t\t      nice\n",
            " bash\t\t\t\t      nisdomainname\n",
            " bashbug\t\t\t      nl\n",
            " bcomps\t\t\t\t      nm\n",
            " bcp\t\t\t\t      nns\n",
            " bjam\t\t\t\t      nnsd\n",
            " bootctl\t\t\t      nnslog\n",
            " browse\t\t\t\t      nohup\n",
            " bunzip2\t\t\t      nop\n",
            " busctl\t\t\t\t      nproc\n",
            " bzcat\t\t\t\t      nroff\n",
            " bzcmp\t\t\t\t      nsenter\n",
            " bzdiff\t\t\t\t      nstat\n",
            " bzegrep\t\t\t      numfmt\n",
            " bzexe\t\t\t\t      objcopy\n",
            " bzfgrep\t\t\t      objdump\n",
            " bzgrep\t\t\t\t      od\n",
            " bzip2\t\t\t\t      ogdi-config\n",
            " bzip2recover\t\t\t      ompi-clean\n",
            " bzless\t\t\t\t      ompi_info\n",
            " bzmore\t\t\t\t      ompi-server\n",
            " c++\t\t\t\t      opalc++\n",
            " c89\t\t\t\t      opalcc\n",
            " c89-gcc\t\t\t      opal_wrapper\n",
            " c99\t\t\t\t      open\n",
            " c99-gcc\t\t\t      opencv_annotation\n",
            " captoinfo\t\t\t      opencv_interactive-calibration\n",
            " cat\t\t\t\t      opencv_model_diagnostics\n",
            " catman\t\t\t\t      opencv_version\n",
            " cc\t\t\t\t      opencv_visualisation\n",
            " ccomps\t\t\t\t      opencv_waldboost_detector\n",
            " c++filt\t\t\t      openssl\n",
            " chage\t\t\t\t      ortecc\n",
            " chattr\t\t\t\t      orte-clean\n",
            " chcon\t\t\t\t      orted\n",
            " chfn\t\t\t\t      orte-info\n",
            " chgrp\t\t\t\t      orterun\n",
            " chmod\t\t\t\t      orte-server\n",
            " choom\t\t\t\t      osage\n",
            " chown\t\t\t\t      oshc++\n",
            " chronic\t\t\t      oshcc\n",
            " chrt\t\t\t\t      oshCC\n",
            " chsh\t\t\t\t      oshcxx\n",
            " circo\t\t\t\t      oshfort\n",
            " cksum\t\t\t\t      oshmem_info\n",
            " clang\t\t\t\t      oshrun\n",
            " clang++\t\t\t      p7zip\n",
            " clang++-14\t\t\t      pack200\n",
            " clang-14\t\t\t      page\n",
            " clang-cpp-14\t\t\t      pager\n",
            " clear\t\t\t\t      paperconf\n",
            " clear_console\t\t\t      parallel\n",
            " clinfo\t\t\t\t      partx\n",
            " cluster\t\t\t      passwd\n",
            " cmake\t\t\t\t      paste\n",
            " cmp\t\t\t\t      patch\n",
            " col\t\t\t\t      patchwork\n",
            " colcrt\t\t\t\t      pathchk\n",
            " colrm\t\t\t\t      pcre2-config\n",
            " column\t\t\t\t      pcre-config\n",
            " combine\t\t\t      pdb3\n",
            " comm\t\t\t\t      pdb3.10\n",
            " compile_et\t\t\t      pee\n",
            " corelist\t\t\t      peekfd\n",
            " cp\t\t\t\t      perl\n",
            " cpack\t\t\t\t      perl5.34.0\n",
            " cpan\t\t\t\t      perl5.34-x86_64-linux-gnu\n",
            " cpan5.34-x86_64-linux-gnu\t      perlbug\n",
            " cpp\t\t\t\t      perldoc\n",
            " cpp-11\t\t\t\t      perlivp\n",
            " c_rehash\t\t\t      perlthanks\n",
            " csplit\t\t\t\t      pg_config\n",
            " ctest\t\t\t\t      pgrep\n",
            " ctstat\t\t\t\t      pic\n",
            " curl\t\t\t\t      piconv\n",
            " curl-config\t\t\t      pidof\n",
            " cut\t\t\t\t      pidwait\n",
            " cvtsudoers\t\t\t      pinentry\n",
            " dash\t\t\t\t      pinentry-curses\n",
            " date\t\t\t\t      pinky\n",
            " dbus-cleanup-sockets\t\t      pkaction\n",
            " dbus-daemon\t\t\t      pkcheck\n",
            " dbus-monitor\t\t\t      pkexec\n",
            " dbus-run-session\t\t      pkgconf\n",
            " dbus-send\t\t\t      pkg-config\n",
            " dbus-update-activation-environment   pkgdata\n",
            " dbus-uuidgen\t\t\t      pkill\n",
            " dd\t\t\t\t      pkttyagent\n",
            " debconf\t\t\t      pl2pm\n",
            " debconf-apt-progress\t\t      pldd\n",
            " debconf-communicate\t\t      pmap\n",
            " debconf-copydb\t\t\t      pod2html\n",
            " debconf-escape\t\t\t      pod2man\n",
            " debconf-set-selections\t\t      pod2text\n",
            " debconf-show\t\t\t      pod2usage\n",
            " deb-systemd-helper\t\t      podchecker\n",
            " deb-systemd-invoke\t\t      pprof-symbolize\n",
            " delpart\t\t\t      pr\n",
            " derb\t\t\t\t      preconv\n",
            " df\t\t\t\t      prename\n",
            " dh_autotools-dev_restoreconfig       printenv\n",
            " dh_autotools-dev_updateconfig\t      printf\n",
            " diff\t\t\t\t      prlimit\n",
            " diff3\t\t\t\t      profile2mat\n",
            " diffimg\t\t\t      protoc\n",
            " dijkstra\t\t\t      prove\n",
            " dir\t\t\t\t      prtstat\n",
            " dircolors\t\t\t      prune\n",
            " dirmngr\t\t\t      ps\n",
            " dirmngr-client\t\t\t      pslog\n",
            " dirname\t\t\t      pstree\n",
            " dmesg\t\t\t\t      pstree.x11\n",
            " dnsdomainname\t\t\t      pt\n",
            " domainname\t\t\t      ptar\n",
            " dot\t\t\t\t      ptardiff\n",
            " dot2gxl\t\t\t      ptargrep\n",
            " dot_builtins\t\t\t      ptx\n",
            " dotty\t\t\t\t      pwd\n",
            " dpkg\t\t\t\t      pwdx\n",
            " dpkg-architecture\t\t      py3clean\n",
            " dpkg-buildflags\t\t      py3compile\n",
            " dpkg-buildpackage\t\t      py3versions\n",
            " dpkg-checkbuilddeps\t\t      pydoc3\n",
            " dpkg-deb\t\t\t      pydoc3.10\n",
            " dpkg-distaddfile\t\t      pygettext3\n",
            " dpkg-divert\t\t\t      pygettext3.10\n",
            " dpkg-genbuildinfo\t\t      python3\n",
            " dpkg-genchanges\t\t      python3.10\n",
            " dpkg-gencontrol\t\t      python3.10-config\n",
            " dpkg-gensymbols\t\t      python3-config\n",
            " dpkg-maintscript-helper\t      qt-faststart\n",
            " dpkg-mergechangelogs\t\t      quickbook\n",
            " dpkg-name\t\t\t      R\n",
            " dpkg-parsechangelog\t\t      ranlib\n",
            " dpkg-query\t\t\t      rbash\n",
            " dpkg-realpath\t\t\t      rcp\n",
            " dpkg-scanpackages\t\t      rdma\n",
            " dpkg-scansources\t\t      readelf\n",
            " dpkg-shlibdeps\t\t\t      readlink\n",
            " dpkg-source\t\t\t      realpath\n",
            " dpkg-split\t\t\t      rename\n",
            " dpkg-statoverride\t\t      renice\n",
            " dpkg-trigger\t\t\t      reset\n",
            " dpkg-vendor\t\t\t      resizepart\n",
            " dtplite\t\t\t      resolvectl\n",
            " du\t\t\t\t      rev\n",
            " dwp\t\t\t\t      rgrep\n",
            " echo\t\t\t\t      rlogin\n",
            " edgepaint\t\t\t      rm\n",
            " editor\t\t\t\t      rmdir\n",
            " egrep\t\t\t\t      rmic\n",
            " elfedit\t\t\t      rmid\n",
            " enc2xs\t\t\t\t      rmiregistry\n",
            " encguess\t\t\t      routef\n",
            " env\t\t\t\t      routel\n",
            " eqn\t\t\t\t      rpcgen\n",
            " errno\t\t\t\t      rrsync\n",
            " ex\t\t\t\t      Rscript\n",
            " expand\t\t\t\t      rsh\n",
            " expiry\t\t\t\t      rsync\n",
            " expr\t\t\t\t      rsync-ssl\n",
            " f77\t\t\t\t      rtstat\n",
            " f95\t\t\t\t      runcon\n",
            " factor\t\t\t\t      run-parts\n",
            " faillog\t\t\t      rview\n",
            " fallocate\t\t\t      rvim\n",
            " false\t\t\t\t      savelog\n",
            " fc-cache\t\t\t      sccmap\n",
            " fc-cat\t\t\t\t      scp\n",
            " fc-conflist\t\t\t      script\n",
            " fc-list\t\t\t      scriptlive\n",
            " fc-match\t\t\t      scriptreplay\n",
            " fc-pattern\t\t\t      sdiff\n",
            " fc-query\t\t\t      sed\n",
            " fc-scan\t\t\t      select-editor\n",
            " fc-validate\t\t\t      sensible-browser\n",
            " fdp\t\t\t\t      sensible-editor\n",
            " ffmpeg\t\t\t\t      sensible-pager\n",
            " ffplay\t\t\t\t      seq\n",
            " ffprobe\t\t\t      serialver\n",
            " fgrep\t\t\t\t      setarch\n",
            " file\t\t\t\t      setpriv\n",
            " file-rename\t\t\t      setsid\n",
            " fincore\t\t\t      setterm\n",
            " find\t\t\t\t      sfdp\n",
            " findmnt\t\t\t      sftp\n",
            " fio\t\t\t\t      sg\n",
            " fio2gnuplot\t\t\t      sh\n",
            " fio-btrace2fio\t\t\t      sha1sum\n",
            " fio-dedupe\t\t\t      sha224sum\n",
            " fio_generate_plots\t\t      sha256sum\n",
            " fio-genzipf\t\t\t      sha384sum\n",
            " fio_jsonplus_clat2csv\t\t      sha512sum\n",
            " fio-verify-state\t\t      shasum\n",
            " flock\t\t\t\t      shmemc++\n",
            " fmt\t\t\t\t      shmemcc\n",
            " fold\t\t\t\t      shmemCC\n",
            " free\t\t\t\t      shmemcxx\n",
            " funzip\t\t\t\t      shmemfort\n",
            " fuser\t\t\t\t      shmemrun\n",
            " fusermount\t\t\t      shred\n",
            " g++\t\t\t\t      shuf\n",
            " g++-11\t\t\t\t      size\n",
            " gapplication\t\t\t      skill\n",
            " gc\t\t\t\t      slabtop\n",
            " gcc\t\t\t\t      sleep\n",
            " gcc-11\t\t\t\t      slogin\n",
            " gcc-ar\t\t\t\t      snice\n",
            " gcc-ar-11\t\t\t      soelim\n",
            " gcc-nm\t\t\t\t      sort\n",
            " gcc-nm-11\t\t\t      splain\n",
            " gcc-ranlib\t\t\t      split\n",
            " gcc-ranlib-11\t\t\t      sponge\n",
            " gcov\t\t\t\t      ss\n",
            " gcov-11\t\t\t      ssh\n",
            " gcov-dump\t\t\t      ssh-add\n",
            " gcov-dump-11\t\t\t      ssh-agent\n",
            " gcov-tool\t\t\t      ssh-argv0\n",
            " gcov-tool-11\t\t\t      ssh-copy-id\n",
            " gdal-config\t\t\t      ssh-keygen\n",
            " gdbus\t\t\t\t      ssh-keyscan\n",
            " genbrk\t\t\t\t      stat\n",
            " gencat\t\t\t\t      stdbuf\n",
            " gencfu\t\t\t\t      streamzip\n",
            " gencnval\t\t\t      strings\n",
            " gendict\t\t\t      strip\n",
            " genfio\t\t\t\t      stty\n",
            " genrb\t\t\t\t      su\n",
            " geos-config\t\t\t      sudo\n",
            " geqn\t\t\t\t      sudoedit\n",
            " getconf\t\t\t      sudoreplay\n",
            " getent\t\t\t\t      sum\n",
            " getopt\t\t\t\t      sync\n",
            " gfortran\t\t\t      systemctl\n",
            " gfortran-11\t\t\t      systemd\n",
            " gio\t\t\t\t      systemd-analyze\n",
            " gio-querymodules\t\t      systemd-ask-password\n",
            " git\t\t\t\t      systemd-cat\n",
            " git-lfs\t\t\t      systemd-cgls\n",
            " git-receive-pack\t\t      systemd-cgtop\n",
            " git-shell\t\t\t      systemd-cryptenroll\n",
            " git-upload-archive\t\t      systemd-delta\n",
            " git-upload-pack\t\t      systemd-detect-virt\n",
            " glib-compile-schemas\t\t      systemd-escape\n",
            " gmake\t\t\t\t      systemd-id128\n",
            " gml2gv\t\t\t\t      systemd-inhibit\n",
            " gold\t\t\t\t      systemd-machine-id-setup\n",
            " google-pprof\t\t\t      systemd-mount\n",
            " gpasswd\t\t\t      systemd-notify\n",
            " gpg\t\t\t\t      systemd-path\n",
            " gpg2\t\t\t\t      systemd-run\n",
            " gpg-agent\t\t\t      systemd-socket-activate\n",
            " gpgcompose\t\t\t      systemd-stdio-bridge\n",
            " gpgconf\t\t\t      systemd-sysext\n",
            " gpg-connect-agent\t\t      systemd-sysusers\n",
            " gpgparsemail\t\t\t      systemd-tmpfiles\n",
            " gpgsm\t\t\t\t      systemd-tty-ask-password-agent\n",
            " gpgsplit\t\t\t      systemd-umount\n",
            " gpgtar\t\t\t\t      tabs\n",
            " gpgv\t\t\t\t      tac\n",
            " gpg-wks-server\t\t\t      tail\n",
            " gpg-zip\t\t\t      tar\n",
            " gpic\t\t\t\t      taskset\n",
            " gprof\t\t\t\t      tbl\n",
            " graphml2gv\t\t\t      tcldocstrip\n",
            " grep\t\t\t\t      tclsh\n",
            " gresource\t\t\t      tclsh8.6\n",
            " groff\t\t\t\t      tcltk-depends\n",
            " grog\t\t\t\t      tee\n",
            " grops\t\t\t\t      tempfile\n",
            " grotty\t\t\t\t      test\n",
            " groups\t\t\t\t      tic\n",
            " gsettings\t\t\t      timedatectl\n",
            " gtbl\t\t\t\t      timeout\n",
            " gtk-update-icon-cache\t\t      tload\n",
            " gunzip\t\t\t\t      tmux\n",
            " gv2gml\t\t\t\t      toe\n",
            " gv2gxl\t\t\t\t      top\n",
            " gvcolor\t\t\t      touch\n",
            " gvgen\t\t\t\t      tput\n",
            " gvmap\t\t\t\t      tr\n",
            " gvmap.sh\t\t\t      tred\n",
            " gvpack\t\t\t\t      troff\n",
            " gvpr\t\t\t\t      true\n",
            " gxl2dot\t\t\t      truncate\n",
            " gxl2gv\t\t\t\t      ts\n",
            " gzexe\t\t\t\t      tset\n",
            " gzip\t\t\t\t      tsort\n",
            " h2ph\t\t\t\t      tty\n",
            " h2xs\t\t\t\t      twopi\n",
            " h5c++\t\t\t\t      tzselect\n",
            " h5cc\t\t\t\t      ucf\n",
            " h5fc\t\t\t\t      ucfq\n",
            " hardlink\t\t\t      ucfr\n",
            " hd\t\t\t\t      uclampset\n",
            " head\t\t\t\t      uconv\n",
            " helpztags\t\t\t      ul\n",
            " hexdump\t\t\t      ulockmgr_server\n",
            " hostid\t\t\t\t      umount\n",
            " hostname\t\t\t      uname\n",
            " hostnamectl\t\t\t      uncompress\n",
            " i386\t\t\t\t      unexpand\n",
            " iconv\t\t\t\t      unflatten\n",
            " icuexportdata\t\t\t      uniq\n",
            " icuinfo\t\t\t      unlink\n",
            " id\t\t\t\t      unlzma\n",
            " ifdata\t\t\t\t      unpack200\n",
            " ifnames\t\t\t      unrar\n",
            " ifne\t\t\t\t      unrar-nonfree\n",
            " infocmp\t\t\t      unshare\n",
            " infotocap\t\t\t      unxz\n",
            " inspect\t\t\t      unzip\n",
            " install\t\t\t      unzipsfx\n",
            " instmodsh\t\t\t      update-alternatives\n",
            " ionice\t\t\t\t      update-mime-database\n",
            " ip\t\t\t\t      uptime\n",
            " ipcmk\t\t\t\t      users\n",
            " ipcrm\t\t\t\t      utmpdump\n",
            " ipcs\t\t\t\t      vdir\n",
            " ischroot\t\t\t      vi\n",
            " isutf8\t\t\t\t      vidir\n",
            " jaotc\t\t\t\t      view\n",
            " jar\t\t\t\t      vim\n",
            " jarsigner\t\t\t      vim.basic\n",
            " java\t\t\t\t      vimdiff\n",
            " javac\t\t\t\t      vimdot\n",
            " javadoc\t\t\t      vimtutor\n",
            " javap\t\t\t\t      vipe\n",
            " jcmd\t\t\t\t      vmstat\n",
            " jdb\t\t\t\t      w\n",
            " jdeprscan\t\t\t      wall\n",
            " jdeps\t\t\t\t      watch\n",
            " jexec\t\t\t\t      watchgnupg\n",
            " jfr\t\t\t\t      wc\n",
            " jhsdb\t\t\t\t      wdctl\n",
            " jimage\t\t\t\t      wget\n",
            " jinfo\t\t\t\t      whatis\n",
            " jjs\t\t\t\t      whereis\n",
            " jlink\t\t\t\t      which\n",
            " jmap\t\t\t\t      which.debianutils\n",
            " jmod\t\t\t\t      who\n",
            " join\t\t\t\t      whoami\n",
            " journalctl\t\t\t      wish\n",
            " jps\t\t\t\t      wish8.6\n",
            " jrunscript\t\t\t      write\n",
            " jshell\t\t\t\t      write.ul\n",
            " json_pp\t\t\t      X11\n",
            " jstack\t\t\t\t      x86_64\n",
            " jstat\t\t\t\t      x86_64-linux-gnu-addr2line\n",
            " jstatd\t\t\t\t      x86_64-linux-gnu-ar\n",
            " kbxutil\t\t\t      x86_64-linux-gnu-as\n",
            " kernel-install\t\t\t      x86_64-linux-gnu-c++filt\n",
            " keyring\t\t\t      x86_64-linux-gnu-cpp\n",
            " keytool\t\t\t      x86_64-linux-gnu-cpp-11\n",
            " kill\t\t\t\t      x86_64-linux-gnu-dwp\n",
            " killall\t\t\t      x86_64-linux-gnu-elfedit\n",
            " kmod\t\t\t\t      x86_64-linux-gnu-g++\n",
            " krb5-config\t\t\t      x86_64-linux-gnu-g++-11\n",
            " krb5-config.mit\t\t      x86_64-linux-gnu-gcc\n",
            " last\t\t\t\t      x86_64-linux-gnu-gcc-11\n",
            " lastb\t\t\t\t      x86_64-linux-gnu-gcc-ar\n",
            " lastlog\t\t\t      x86_64-linux-gnu-gcc-ar-11\n",
            " lcf\t\t\t\t      x86_64-linux-gnu-gcc-nm\n",
            " lckdo\t\t\t\t      x86_64-linux-gnu-gcc-nm-11\n",
            " ld\t\t\t\t      x86_64-linux-gnu-gcc-ranlib\n",
            " ld.bfd\t\t\t\t      x86_64-linux-gnu-gcc-ranlib-11\n",
            " ldd\t\t\t\t      x86_64-linux-gnu-gcov\n",
            " ld.gold\t\t\t      x86_64-linux-gnu-gcov-11\n",
            " lefty\t\t\t\t      x86_64-linux-gnu-gcov-dump\n",
            " less\t\t\t\t      x86_64-linux-gnu-gcov-dump-11\n",
            " lessecho\t\t\t      x86_64-linux-gnu-gcov-tool\n",
            " lessfile\t\t\t      x86_64-linux-gnu-gcov-tool-11\n",
            " lesskey\t\t\t      x86_64-linux-gnu-gfortran\n",
            " lesspipe\t\t\t      x86_64-linux-gnu-gfortran-11\n",
            " lexgrog\t\t\t      x86_64-linux-gnu-gold\n",
            " libnetcfg\t\t\t      x86_64-linux-gnu-gprof\n",
            " libpng16-config\t\t      x86_64-linux-gnu-ld\n",
            " libpng-config\t\t\t      x86_64-linux-gnu-ld.bfd\n",
            " link\t\t\t\t      x86_64-linux-gnu-ld.gold\n",
            " linux32\t\t\t      x86_64-linux-gnu-lto-dump-11\n",
            " linux64\t\t\t      x86_64-linux-gnu-nm\n",
            " ln\t\t\t\t      x86_64-linux-gnu-objcopy\n",
            " lneato\t\t\t\t      x86_64-linux-gnu-objdump\n",
            " lnstat\t\t\t\t      x86_64-linux-gnu-pkg-config\n",
            " locale\t\t\t\t      x86_64-linux-gnu-python3.10-config\n",
            " locale-check\t\t\t      x86_64-linux-gnu-python3-config\n",
            " localectl\t\t\t      x86_64-linux-gnu-ranlib\n",
            " localedef\t\t\t      x86_64-linux-gnu-readelf\n",
            " logger\t\t\t\t      x86_64-linux-gnu-size\n",
            " login\t\t\t\t      x86_64-linux-gnu-strings\n",
            " loginctl\t\t\t      x86_64-linux-gnu-strip\n",
            " logname\t\t\t      xargs\n",
            " look\t\t\t\t      xauth\n",
            " ls\t\t\t\t      xdg-desktop-icon\n",
            " lsattr\t\t\t\t      xdg-desktop-menu\n",
            " lsblk\t\t\t\t      xdg-email\n",
            " lsb_release\t\t\t      xdg-icon-resource\n",
            " lscpu\t\t\t\t      xdg-mime\n",
            " lsipc\t\t\t\t      xdg-open\n",
            " lslocks\t\t\t      xdg-screensaver\n",
            " lslogins\t\t\t      xdg-settings\n",
            " lsmem\t\t\t\t      xml2-config\n",
            " lsmod\t\t\t\t      xsubpp\n",
            " lsns\t\t\t\t      xxd\n",
            " lsof\t\t\t\t      xz\n",
            " lspgpot\t\t\t      xzcat\n",
            " lto-dump-11\t\t\t      xzcmp\n",
            " lzcat\t\t\t\t      xzdiff\n",
            " lzcmp\t\t\t\t      xzegrep\n",
            " lzdiff\t\t\t\t      xzfgrep\n",
            " lzegrep\t\t\t      xzgrep\n",
            " lzfgrep\t\t\t      xzless\n",
            " lzgrep\t\t\t\t      xzmore\n",
            " lzless\t\t\t\t      yes\n",
            " lzma\t\t\t\t      ypdomainname\n",
            " lzmainfo\t\t\t      zcat\n",
            " lzmore\t\t\t\t      zcmp\n",
            " m4\t\t\t\t      zdiff\n",
            " make\t\t\t\t      zdump\n",
            " makeconv\t\t\t      zegrep\n",
            " make-first-existing-target\t      zfgrep\n",
            " man\t\t\t\t      zforce\n",
            " mandb\t\t\t\t      zgrep\n",
            " manpath\t\t\t      zip\n",
            " man.REAL\t\t\t      zipcloak\n",
            " man-recode\t\t\t      zipdetails\n",
            " mawk\t\t\t\t      zipgrep\n",
            " mcookie\t\t\t      zipinfo\n",
            " md5sum\t\t\t\t      zipnote\n",
            " md5sum.textutils\t\t      zipsplit\n",
            " mesg\t\t\t\t      zless\n",
            " migrate-pubring-from-classic-gpg     zmore\n",
            " mingle\t\t\t\t      znew\n",
            " mispipe\t\t\t      zrun\n"
          ]
        }
      ]
    },
    {
      "cell_type": "code",
      "source": [
        "# Run this cell to mount your Google Drive.\n",
        "from google.colab import drive\n",
        "drive.mount('/content/drive')"
      ],
      "metadata": {
        "colab": {
          "base_uri": "https://localhost:8080/"
        },
        "id": "TUKn3WbiRDnv",
        "outputId": "2ae7b2e9-b374-46bc-c119-c0a5581d14ef"
      },
      "execution_count": 40,
      "outputs": [
        {
          "output_type": "stream",
          "name": "stdout",
          "text": [
            "Drive already mounted at /content/drive; to attempt to forcibly remount, call drive.mount(\"/content/drive\", force_remount=True).\n"
          ]
        }
      ]
    },
    {
      "cell_type": "code",
      "source": [
        "!ls \"/content/drive/My Drive/Colab Notebooks\""
      ],
      "metadata": {
        "colab": {
          "base_uri": "https://localhost:8080/"
        },
        "id": "tq4R1vqYRTmi",
        "outputId": "1cebce62-d445-4610-d8c7-c12a43d2b44f"
      },
      "execution_count": 41,
      "outputs": [
        {
          "output_type": "stream",
          "name": "stdout",
          "text": [
            "'Copy of MyFirstColabNotebook (1).ipynb'   MyFirstColabNotebook.ipynb\n",
            "'Copy of MyFirstColabNotebook.ipynb'\t   Untitled0.ipynb\n"
          ]
        }
      ]
    },
    {
      "cell_type": "code",
      "source": [
        "print(\"Welcome to TutorialsPoint!\")"
      ],
      "metadata": {
        "colab": {
          "base_uri": "https://localhost:8080/"
        },
        "id": "jDjEnhtHRdWt",
        "outputId": "58a92cfa-690c-497c-adbf-e0c34baef758"
      },
      "execution_count": 42,
      "outputs": [
        {
          "output_type": "stream",
          "name": "stdout",
          "text": [
            "Welcome to TutorialsPoint!\n"
          ]
        }
      ]
    },
    {
      "cell_type": "code",
      "source": [
        "import numpy as np\n",
        "from matplotlib import pyplot as plt\n",
        "y = np.random.randn(100)\n",
        "x = [x for x in range(len(y))]\n",
        "plt.plot(x, y, '-')\n",
        "plt.fill_between(x, y, 200, where=(y > 195), facecolor='g', alpha=0.6)\n",
        "plt.title(\"Sample Plot\")\n",
        "plt.show()"
      ],
      "metadata": {
        "colab": {
          "base_uri": "https://localhost:8080/",
          "height": 452
        },
        "id": "8ahGs61KRh_m",
        "outputId": "f205db3a-616b-489d-ea25-72f118c3db2a"
      },
      "execution_count": 43,
      "outputs": [
        {
          "output_type": "display_data",
          "data": {
            "text/plain": [
              "<Figure size 640x480 with 1 Axes>"
            ],
            "image/png": "[encoded data removed]"
          },
          "metadata": {}
        }
      ]
    },
    {
      "cell_type": "code",
      "source": [
        "import torch"
      ],
      "metadata": {
        "id": "KFnvBnFxTdxP"
      },
      "execution_count": 44,
      "outputs": []
    },
    {
      "cell_type": "code",
      "source": [
        "Tensor = torch.Tensor\n"
      ],
      "metadata": {
        "id": "Ixlql2F_TglI"
      },
      "execution_count": 45,
      "outputs": []
    },
    {
      "cell_type": "code",
      "source": [
        "Tensor = torch.cos(Tensor([0, 1, 2, 3, 4, 5]))\n",
        "print(Tensor)"
      ],
      "metadata": {
        "colab": {
          "base_uri": "https://localhost:8080/"
        },
        "id": "wAWElooQTmHS",
        "outputId": "4bf527e6-373b-49c4-9bfd-6a01b609e644"
      },
      "execution_count": 46,
      "outputs": [
        {
          "output_type": "stream",
          "name": "stdout",
          "text": [
            "tensor([ 1.0000,  0.5403, -0.4161, -0.9900, -0.6536,  0.2837])\n"
          ]
        }
      ]
    },
    {
      "cell_type": "code",
      "source": [
        "%ldir"
      ],
      "metadata": {
        "colab": {
          "base_uri": "https://localhost:8080/"
        },
        "id": "iSMPv_TbUAVA",
        "outputId": "5f3654e8-2153-4c56-ac20-a1cbabfe9088"
      },
      "execution_count": 47,
      "outputs": [
        {
          "output_type": "stream",
          "name": "stdout",
          "text": [
            "drwxr-xr-x 3 root 4096 Oct 18 02:18 \u001b[0m\u001b[01;34mdata\u001b[0m/\n",
            "drwx------ 6 root 4096 Oct 18 01:27 \u001b[01;34mdrive\u001b[0m/\n",
            "drwxr-xr-x 3 root 4096 Oct 18 02:18 \u001b[01;34mkeras-mnist-tutorial\u001b[0m/\n",
            "drwxr-xr-x 1 root 4096 Oct 14 13:23 \u001b[01;34msample_data\u001b[0m/\n"
          ]
        }
      ]
    },
    {
      "cell_type": "code",
      "source": [
        "%history"
      ],
      "metadata": {
        "colab": {
          "base_uri": "https://localhost:8080/"
        },
        "id": "BgYB7ZJ4U_Jc",
        "outputId": "bf211d04-d88e-4948-da93-ddef74004deb"
      },
      "execution_count": 48,
      "outputs": [
        {
          "output_type": "stream",
          "name": "stdout",
          "text": [
            "!python3 \"/content/drive/My Drive/Colab Notebooks/MyFirstColabNotebook.ipynb\"\n",
            "!ls /bin\n",
            "# Run this cell to mount your Google Drive.\n",
            "from google.colab import drive\n",
            "drive.mount('/content/drive')\n",
            "!ls \"/content/drive/My Drive/Colab Notebooks\"\n",
            "print(\"Welcome to TutorialsPoint!\")\n",
            "import numpy as np\n",
            "from matplotlib import pyplot as plt\n",
            "y = np.random.randn(100)\n",
            "x = [x for x in range(len(y))]\n",
            "plt.plot(x, y, '-')\n",
            "plt.fill_between(x, y, 200, where=(y > 195), facecolor='g', alpha=0.6)\n",
            "plt.title(\"Sample Plot\")\n",
            "plt.show()\n",
            "import torch\n",
            "Tensor = torch.\n",
            "Tensor = torch.Tensor\n",
            "Tensor = torch.cos(Tensor(np.pi))\n",
            "Tensor = torch.cos(Tensor([0, 1, 2, 3, 4, 5]))\n",
            "print(Tensor\n",
            "Tensor = torch.cos(Tensor([0, 1, 2, 3, 4, 5]))\n",
            "print(Tensor)\n",
            "%ldir\n",
            "%history\n",
            "%%html\n",
            "<marquee style='width: 50%; color: Green;'><b>Welcome to TutorialsPoint</b></marquee>\n",
            "%%html\n",
            "<svg xmlns=\"http://www.w3.org/2000/svg\" viewBox=\"0 0 600 400\" width=\"400\" height=\"400\">\n",
            "<rect x=\"10\" y=\"00\" width=\"300\" height=\"100\" rx=\"0\" style=\"fill:orange; stroke:black; fill-opacity:1.0\" />\n",
            "<rect x=\"10\" y=\"100\" width=\"300\" height=\"100\" rx=\"0\" style=\"fill:white; stroke:black; fill-opacity:1.0;\" />\n",
            "<rect x=\"10\" y=\"200\" width=\"300\" height=\"100\" rx=\"0\" style=\"fill:green; stroke:black; fill-opacity:1.0;\" />\n",
            "</svg>\n",
            "%lsmagic\n",
            "import time\n",
            "print(time.ctime())\n",
            "time.sleep(5)\n",
            "print (time.ctime())\n",
            "# @title Default title text\n",
            "# @title Default title text\n",
            "# @title Default title text\n",
            "# @title Form\n",
            "Sleeptime = 0 # @param {\"type\":\"integer\"}\n",
            "import time\n",
            "print(time.ctime())\n",
            "time.sleep(sleeptime)\n",
            "print (time.ctime())\n",
            "import time\n",
            "print(time.ctime())\n",
            "time.sleep(Sleeptime)\n",
            "print (time.ctime())\n",
            "# @title Form\n",
            "Sleeptime = 2 # @param {\"type\":\"integer\"}\n",
            "import time\n",
            "print(time.ctime())\n",
            "time.sleep(Sleeptime)\n",
            "print (time.ctime())\n",
            "Runtime / Run all\n",
            "import time\n",
            "print(time.ctime())\n",
            "time.sleep(5)\n",
            "print(time.ctime())\n",
            "message = 'A Great Tutorial on Colab by Tutorialspoint! '\n",
            "greeting = !echo -e '{message}\\n{message}'\n",
            "greeting\n",
            "!mkdir -p /content/data/adult\n",
            "!wget https://archive.ics.uci.edu/dataset/2/adult -P \"/content/data/adult\"\n",
            "!ls /content/data/adult/\n",
            "!wget https://archive.ics.uci.edu/ml/machine-learning-databases/adult/adult.data -P \"/content/data/adult\"\n",
            "import pandas as pd\n",
            "\n",
            "# Load the dataset\n",
            "df = pd.read_csv('/content/data/adult/adult.data', header=None)\n",
            "\n",
            "# Display the first few rows\n",
            "df.head(5)\n",
            "!git clone https://github.com/wxs/keras-mnist-tutorial.git\n",
            "# Run this cell to mount your Google Drive\n",
            "from google.colab import drive\n",
            "drive.mount('/content/drive')\n",
            "!ls \"/content/drive/My Drive/Colab Notebooks\"\n",
            "!python3 \"/content/drive/My Drive/Colab Notebooks/MyFirstColabNotebook.ipynb\"\n",
            "!ls /bin\n",
            "# Run this cell to mount your Google Drive.\n",
            "from google.colab import drive\n",
            "drive.mount('/content/drive')\n",
            "!ls \"/content/drive/My Drive/Colab Notebooks\"\n",
            "print(\"Welcome to TutorialsPoint!\")\n",
            "import numpy as np\n",
            "from matplotlib import pyplot as plt\n",
            "y = np.random.randn(100)\n",
            "x = [x for x in range(len(y))]\n",
            "plt.plot(x, y, '-')\n",
            "plt.fill_between(x, y, 200, where=(y > 195), facecolor='g', alpha=0.6)\n",
            "plt.title(\"Sample Plot\")\n",
            "plt.show()\n",
            "import torch\n",
            "Tensor = torch.Tensor\n",
            "Tensor = torch.cos(Tensor([0, 1, 2, 3, 4, 5]))\n",
            "print(Tensor)\n",
            "%ldir\n",
            "%history\n"
          ]
        }
      ]
    },
    {
      "cell_type": "code",
      "source": [
        "%%html\n",
        "<marquee style='width: 50%; color: Green;'><b>Welcome to TutorialsPoint</b></marquee>"
      ],
      "metadata": {
        "colab": {
          "base_uri": "https://localhost:8080/",
          "height": 39
        },
        "id": "4M6F4QY6VEDn",
        "outputId": "37e9c2d6-df3a-46b1-fbe6-4fb8e5e449d9"
      },
      "execution_count": 49,
      "outputs": [
        {
          "output_type": "display_data",
          "data": {
            "text/plain": [
              "<IPython.core.display.HTML object>"
            ],
            "text/html": [
              "<marquee style='width: 50%; color: Green;'><b>Welcome to TutorialsPoint</b></marquee>\n"
            ]
          },
          "metadata": {}
        }
      ]
    },
    {
      "cell_type": "code",
      "source": [
        "%%html\n",
        "<svg xmlns=\"http://www.w3.org/2000/svg\" viewBox=\"0 0 600 400\" width=\"400\" height=\"400\">\n",
        "<rect x=\"10\" y=\"00\" width=\"300\" height=\"100\" rx=\"0\" style=\"fill:orange; stroke:black; fill-opacity:1.0\" />\n",
        "<rect x=\"10\" y=\"100\" width=\"300\" height=\"100\" rx=\"0\" style=\"fill:white; stroke:black; fill-opacity:1.0;\" />\n",
        "<rect x=\"10\" y=\"200\" width=\"300\" height=\"100\" rx=\"0\" style=\"fill:green; stroke:black; fill-opacity:1.0;\" />\n",
        "</svg>"
      ],
      "metadata": {
        "colab": {
          "base_uri": "https://localhost:8080/",
          "height": 422
        },
        "id": "w3lcOnfCVZHi",
        "outputId": "4015cf02-ba26-4293-dc00-ebec1cd29c1e"
      },
      "execution_count": 50,
      "outputs": [
        {
          "output_type": "display_data",
          "data": {
            "text/plain": [
              "<IPython.core.display.HTML object>"
            ],
            "text/html": [
              "<svg xmlns=\"http://www.w3.org/2000/svg\" viewBox=\"0 0 600 400\" width=\"400\" height=\"400\">\n",
              "<rect x=\"10\" y=\"00\" width=\"300\" height=\"100\" rx=\"0\" style=\"fill:orange; stroke:black; fill-opacity:1.0\" />\n",
              "<rect x=\"10\" y=\"100\" width=\"300\" height=\"100\" rx=\"0\" style=\"fill:white; stroke:black; fill-opacity:1.0;\" />\n",
              "<rect x=\"10\" y=\"200\" width=\"300\" height=\"100\" rx=\"0\" style=\"fill:green; stroke:black; fill-opacity:1.0;\" />\n",
              "</svg>\n"
            ]
          },
          "metadata": {}
        }
      ]
    },
    {
      "cell_type": "code",
      "source": [
        "%lsmagic"
      ],
      "metadata": {
        "colab": {
          "base_uri": "https://localhost:8080/",
          "height": 208
        },
        "id": "TGASH4tZVocH",
        "outputId": "312b96a1-aa36-48a6-fe18-7e8ed7be1478"
      },
      "execution_count": 51,
      "outputs": [
        {
          "output_type": "execute_result",
          "data": {
            "text/plain": [
              "Available line magics:\n",
              "%alias  %alias_magic  %autoawait  %autocall  %automagic  %autosave  %bookmark  %cat  %cd  %clear  %colors  %conda  %config  %connect_info  %cp  %debug  %dhist  %dirs  %doctest_mode  %ed  %edit  %env  %gui  %hist  %history  %killbgscripts  %ldir  %less  %lf  %lk  %ll  %load  %load_ext  %loadpy  %logoff  %logon  %logstart  %logstate  %logstop  %ls  %lsmagic  %lx  %macro  %magic  %man  %matplotlib  %mkdir  %more  %mv  %notebook  %page  %pastebin  %pdb  %pdef  %pdoc  %pfile  %pinfo  %pinfo2  %pip  %popd  %pprint  %precision  %prun  %psearch  %psource  %pushd  %pwd  %pycat  %pylab  %qtconsole  %quickref  %recall  %rehashx  %reload_ext  %rep  %rerun  %reset  %reset_selective  %rm  %rmdir  %run  %save  %sc  %set_env  %shell  %store  %sx  %system  %tb  %tensorflow_version  %time  %timeit  %unalias  %unload_ext  %who  %who_ls  %whos  %xdel  %xmode\n",
              "\n",
              "Available cell magics:\n",
              "%%!  %%HTML  %%SVG  %%bash  %%bigquery  %%capture  %%debug  %%file  %%html  %%javascript  %%js  %%latex  %%markdown  %%perl  %%prun  %%pypy  %%python  %%python2  %%python3  %%ruby  %%script  %%sh  %%shell  %%svg  %%sx  %%system  %%time  %%timeit  %%writefile\n",
              "\n",
              "Automagic is ON, % prefix IS NOT needed for line magics."
            ],
            "application/json": {
              "line": {
                "automagic": "AutoMagics",
                "autocall": "AutoMagics",
                "alias_magic": "BasicMagics",
                "lsmagic": "BasicMagics",
                "magic": "BasicMagics",
                "page": "BasicMagics",
                "pprint": "BasicMagics",
                "colors": "BasicMagics",
                "xmode": "BasicMagics",
                "quickref": "BasicMagics",
                "doctest_mode": "BasicMagics",
                "gui": "BasicMagics",
                "precision": "BasicMagics",
                "notebook": "BasicMagics",
                "save": "CodeMagics",
                "pastebin": "CodeMagics",
                "loadpy": "CodeMagics",
                "load": "CodeMagics",
                "edit": "KernelMagics",
                "config": "ConfigMagics",
                "prun": "ExecutionMagics",
                "pdb": "ExecutionMagics",
                "debug": "ExecutionMagics",
                "tb": "ExecutionMagics",
                "run": "ExecutionMagics",
                "timeit": "ExecutionMagics",
                "time": "ExecutionMagics",
                "macro": "ExecutionMagics",
                "load_ext": "ExtensionMagics",
                "unload_ext": "ExtensionMagics",
                "reload_ext": "ExtensionMagics",
                "history": "HistoryMagics",
                "recall": "HistoryMagics",
                "rerun": "HistoryMagics",
                "logstart": "LoggingMagics",
                "logstop": "LoggingMagics",
                "logoff": "LoggingMagics",
                "logon": "LoggingMagics",
                "logstate": "LoggingMagics",
                "pinfo": "NamespaceMagics",
                "pinfo2": "NamespaceMagics",
                "pdef": "NamespaceMagics",
                "pdoc": "NamespaceMagics",
                "psource": "NamespaceMagics",
                "pfile": "NamespaceMagics",
                "psearch": "NamespaceMagics",
                "who_ls": "NamespaceMagics",
                "who": "NamespaceMagics",
                "whos": "NamespaceMagics",
                "reset": "NamespaceMagics",
                "reset_selective": "NamespaceMagics",
                "xdel": "NamespaceMagics",
                "alias": "OSMagics",
                "unalias": "OSMagics",
                "rehashx": "OSMagics",
                "pwd": "OSMagics",
                "cd": "OSMagics",
                "env": "OSMagics",
                "set_env": "OSMagics",
                "pushd": "OSMagics",
                "popd": "OSMagics",
                "dirs": "OSMagics",
                "dhist": "OSMagics",
                "sc": "OSMagics",
                "sx": "OSMagics",
                "system": "OSMagics",
                "bookmark": "OSMagics",
                "pycat": "OSMagics",
                "pip": "Other",
                "conda": "PackagingMagics",
                "matplotlib": "PylabMagics",
                "pylab": "PylabMagics",
                "killbgscripts": "ScriptMagics",
                "autoawait": "AsyncMagics",
                "ed": "Other",
                "hist": "Other",
                "rep": "Other",
                "clear": "KernelMagics",
                "less": "KernelMagics",
                "more": "KernelMagics",
                "man": "KernelMagics",
                "connect_info": "KernelMagics",
                "qtconsole": "KernelMagics",
                "autosave": "KernelMagics",
                "mkdir": "Other",
                "rmdir": "Other",
                "mv": "Other",
                "rm": "Other",
                "cp": "Other",
                "cat": "Other",
                "ls": "Other",
                "ll": "Other",
                "lf": "Other",
                "lk": "Other",
                "ldir": "Other",
                "lx": "Other",
                "store": "StoreMagics",
                "shell": "Other",
                "tensorflow_version": "Other"
              },
              "cell": {
                "js": "DisplayMagics",
                "javascript": "DisplayMagics",
                "latex": "DisplayMagics",
                "svg": "DisplayMagics",
                "html": "DisplayMagics",
                "markdown": "DisplayMagics",
                "prun": "ExecutionMagics",
                "debug": "ExecutionMagics",
                "timeit": "ExecutionMagics",
                "time": "ExecutionMagics",
                "capture": "ExecutionMagics",
                "sx": "OSMagics",
                "system": "OSMagics",
                "!": "OSMagics",
                "writefile": "OSMagics",
                "script": "ScriptMagics",
                "sh": "Other",
                "bash": "Other",
                "perl": "Other",
                "ruby": "Other",
                "python": "Other",
                "python2": "Other",
                "python3": "Other",
                "pypy": "Other",
                "SVG": "Other",
                "HTML": "Other",
                "file": "Other",
                "bigquery": "Other",
                "shell": "Other"
              }
            }
          },
          "metadata": {},
          "execution_count": 51
        }
      ]
    },
    {
      "cell_type": "code",
      "source": [
        "import time\n",
        "print(time.ctime())\n",
        "time.sleep(5)\n",
        "print (time.ctime())"
      ],
      "metadata": {
        "colab": {
          "base_uri": "https://localhost:8080/"
        },
        "id": "Y11IKWftVtk_",
        "outputId": "1158b4a3-fdad-4c08-b02f-b682fb2cb0a6"
      },
      "execution_count": 52,
      "outputs": [
        {
          "output_type": "stream",
          "name": "stdout",
          "text": [
            "Fri Oct 18 02:18:13 2024\n",
            "Fri Oct 18 02:18:18 2024\n"
          ]
        }
      ]
    },
    {
      "cell_type": "markdown",
      "source": [],
      "metadata": {
        "id": "3m9QavDPXBRP"
      }
    },
    {
      "cell_type": "code",
      "source": [
        "# @title Form\n",
        "Sleeptime = 2 # @param {\"type\":\"integer\"}"
      ],
      "metadata": {
        "id": "cljw5P7pXxLE"
      },
      "execution_count": 53,
      "outputs": []
    },
    {
      "cell_type": "code",
      "source": [
        "import time\n",
        "print(time.ctime())\n",
        "time.sleep(Sleeptime)\n",
        "print (time.ctime())"
      ],
      "metadata": {
        "colab": {
          "base_uri": "https://localhost:8080/"
        },
        "id": "aImXDgguXyhn",
        "outputId": "8d92921d-2fdd-4bd3-a37c-e08fa991073b"
      },
      "execution_count": 54,
      "outputs": [
        {
          "output_type": "stream",
          "name": "stdout",
          "text": [
            "Fri Oct 18 02:18:18 2024\n",
            "Fri Oct 18 02:18:20 2024\n"
          ]
        }
      ]
    },
    {
      "cell_type": "code",
      "source": [
        "name = 'Tutorialspoint' #@param {type:\"string\"}\n",
        "print(name)"
      ],
      "metadata": {
        "colab": {
          "base_uri": "https://localhost:8080/"
        },
        "id": "ivD9yw_oac4n",
        "outputId": "6fea36ca-e5e4-4576-b75e-d42a5b7c708d"
      },
      "execution_count": 55,
      "outputs": [
        {
          "output_type": "stream",
          "name": "stdout",
          "text": [
            "Tutorialspoint\n"
          ]
        }
      ]
    },
    {
      "cell_type": "code",
      "source": [
        "color = \"green\" # @param [\"red\",\"green\",\"blue\"]\n",
        "print(color)"
      ],
      "metadata": {
        "colab": {
          "base_uri": "https://localhost:8080/"
        },
        "id": "HkrSYutbbJpZ",
        "outputId": "c25d97ce-a13b-4ed1-cf17-89c18d525a46"
      },
      "execution_count": 56,
      "outputs": [
        {
          "output_type": "stream",
          "name": "stdout",
          "text": [
            "green\n"
          ]
        }
      ]
    },
    {
      "cell_type": "code",
      "source": [
        "#@title Date fields\n",
        "date_input = '2013-06-03' #@param {type:\"date\"}\n",
        "print(date_input)"
      ],
      "metadata": {
        "id": "kXofjpNqbM48"
      },
      "execution_count": null,
      "outputs": []
    },
    {
      "cell_type": "code",
      "source": [
        "!apt-get install"
      ],
      "metadata": {
        "colab": {
          "base_uri": "https://localhost:8080/"
        },
        "id": "-kPVz5fPdFFJ",
        "outputId": "6b754d87-d503-4d9f-dcfd-c910305441ff"
      },
      "execution_count": 58,
      "outputs": [
        {
          "output_type": "stream",
          "name": "stdout",
          "text": [
            "Reading package lists... Done\n",
            "Building dependency tree... Done\n",
            "Reading state information... Done\n",
            "0 upgraded, 0 newly installed, 0 to remove and 49 not upgraded.\n"
          ]
        }
      ]
    },
    {
      "cell_type": "code",
      "source": [
        "!pip install -q keras"
      ],
      "metadata": {
        "id": "ACdpR3JEdIMu"
      },
      "execution_count": 59,
      "outputs": []
    },
    {
      "cell_type": "code",
      "source": [
        "!pip3 install torch torchvision"
      ],
      "metadata": {
        "colab": {
          "base_uri": "https://localhost:8080/"
        },
        "id": "YadAAvUZdSVd",
        "outputId": "223d8dc9-dbcf-421d-ca5d-bb026038a5f8"
      },
      "execution_count": 60,
      "outputs": [
        {
          "output_type": "stream",
          "name": "stdout",
          "text": [
            "Requirement already satisfied: torch in /usr/local/lib/python3.10/dist-packages (2.4.1+cu121)\n",
            "Requirement already satisfied: torchvision in /usr/local/lib/python3.10/dist-packages (0.19.1+cu121)\n",
            "Requirement already satisfied: filelock in /usr/local/lib/python3.10/dist-packages (from torch) (3.16.1)\n",
            "Requirement already satisfied: typing-extensions>=4.8.0 in /usr/local/lib/python3.10/dist-packages (from torch) (4.12.2)\n",
            "Requirement already satisfied: sympy in /usr/local/lib/python3.10/dist-packages (from torch) (1.13.3)\n",
            "Requirement already satisfied: networkx in /usr/local/lib/python3.10/dist-packages (from torch) (3.4)\n",
            "Requirement already satisfied: jinja2 in /usr/local/lib/python3.10/dist-packages (from torch) (3.1.4)\n",
            "Requirement already satisfied: fsspec in /usr/local/lib/python3.10/dist-packages (from torch) (2024.6.1)\n",
            "Requirement already satisfied: numpy in /usr/local/lib/python3.10/dist-packages (from torchvision) (1.26.4)\n",
            "Requirement already satisfied: pillow!=8.3.*,>=5.3.0 in /usr/local/lib/python3.10/dist-packages (from torchvision) (10.4.0)\n",
            "Requirement already satisfied: MarkupSafe>=2.0 in /usr/local/lib/python3.10/dist-packages (from jinja2->torch) (3.0.1)\n",
            "Requirement already satisfied: mpmath<1.4,>=1.1.0 in /usr/local/lib/python3.10/dist-packages (from sympy->torch) (1.3.0)\n"
          ]
        }
      ]
    },
    {
      "cell_type": "code",
      "source": [
        "!apt install libnvrtc8.0\n",
        "!pip install mxnet-cu80"
      ],
      "metadata": {
        "colab": {
          "base_uri": "https://localhost:8080/"
        },
        "id": "Rw8MMYUBdZy1",
        "outputId": "353bca07-7ce0-4b67-ab8c-1e9cad3358fc"
      },
      "execution_count": 62,
      "outputs": [
        {
          "output_type": "stream",
          "name": "stdout",
          "text": [
            "Reading package lists... Done\n",
            "Building dependency tree... Done\n",
            "Reading state information... Done\n",
            "\u001b[1;31mE: \u001b[0mUnable to locate package libnvrtc8.0\u001b[0m\n",
            "\u001b[1;31mE: \u001b[0mCouldn't find any package by glob 'libnvrtc8.0'\u001b[0m\n",
            "Collecting mxnet-cu80\n",
            "  Downloading mxnet_cu80-1.5.0-py2.py3-none-manylinux1_x86_64.whl.metadata (3.6 kB)\n",
            "Requirement already satisfied: numpy<2.0.0,>1.16.0 in /usr/local/lib/python3.10/dist-packages (from mxnet-cu80) (1.26.4)\n",
            "Requirement already satisfied: requests<3,>=2.20.0 in /usr/local/lib/python3.10/dist-packages (from mxnet-cu80) (2.32.3)\n",
            "Collecting graphviz<0.9.0,>=0.8.1 (from mxnet-cu80)\n",
            "  Downloading graphviz-0.8.4-py2.py3-none-any.whl.metadata (6.4 kB)\n",
            "Requirement already satisfied: charset-normalizer<4,>=2 in /usr/local/lib/python3.10/dist-packages (from requests<3,>=2.20.0->mxnet-cu80) (3.4.0)\n",
            "Requirement already satisfied: idna<4,>=2.5 in /usr/local/lib/python3.10/dist-packages (from requests<3,>=2.20.0->mxnet-cu80) (3.10)\n",
            "Requirement already satisfied: urllib3<3,>=1.21.1 in /usr/local/lib/python3.10/dist-packages (from requests<3,>=2.20.0->mxnet-cu80) (2.2.3)\n",
            "Requirement already satisfied: certifi>=2017.4.17 in /usr/local/lib/python3.10/dist-packages (from requests<3,>=2.20.0->mxnet-cu80) (2024.8.30)\n",
            "Downloading mxnet_cu80-1.5.0-py2.py3-none-manylinux1_x86_64.whl (372.1 MB)\n",
            "\u001b[2K   \u001b[90m━━━━━━━━━━━━━━━━━━━━━━━━━━━━━━━━━━━━━━━━\u001b[0m \u001b[32m372.1/372.1 MB\u001b[0m \u001b[31m4.9 MB/s\u001b[0m eta \u001b[36m0:00:00\u001b[0m\n",
            "\u001b[?25hDownloading graphviz-0.8.4-py2.py3-none-any.whl (16 kB)\n",
            "Installing collected packages: graphviz, mxnet-cu80\n",
            "  Attempting uninstall: graphviz\n",
            "    Found existing installation: graphviz 0.20.3\n",
            "    Uninstalling graphviz-0.20.3:\n",
            "      Successfully uninstalled graphviz-0.20.3\n",
            "Successfully installed graphviz-0.8.4 mxnet-cu80-1.5.0\n"
          ]
        }
      ]
    },
    {
      "cell_type": "code",
      "source": [
        "!apt-get -qq install -y libsm6 libxext6 && pip install -q -U opencv-python\n"
      ],
      "metadata": {
        "id": "4IfNayZtdfYV"
      },
      "execution_count": 63,
      "outputs": []
    },
    {
      "cell_type": "code",
      "source": [
        "!pip install -q xgboost==0.4a30"
      ],
      "metadata": {
        "colab": {
          "base_uri": "https://localhost:8080/"
        },
        "id": "fIR5YQn6ePry",
        "outputId": "0970faa1-c9e7-4189-9b6c-13d4937b30ca"
      },
      "execution_count": 64,
      "outputs": [
        {
          "output_type": "stream",
          "name": "stdout",
          "text": [
            "\u001b[?25l     \u001b[90m━━━━━━━━━━━━━━━━━━━━━━━━━━━━━━━━━━━━━━━━\u001b[0m \u001b[32m0.0/753.6 kB\u001b[0m \u001b[31m?\u001b[0m eta \u001b[36m-:--:--\u001b[0m\r\u001b[2K     \u001b[91m━━━━━━\u001b[0m\u001b[91m╸\u001b[0m\u001b[90m━━━━━━━━━━━━━━━━━━━━━━━━━━━━━━━━━\u001b[0m \u001b[32m122.9/753.6 kB\u001b[0m \u001b[31m3.8 MB/s\u001b[0m eta \u001b[36m0:00:01\u001b[0m\r\u001b[2K     \u001b[91m━━━━━━━━━━━━━━━━━━━━━━━━━━━━━━━━━━━━━━━\u001b[0m\u001b[91m╸\u001b[0m \u001b[32m747.5/753.6 kB\u001b[0m \u001b[31m11.1 MB/s\u001b[0m eta \u001b[36m0:00:01\u001b[0m\r\u001b[2K     \u001b[90m━━━━━━━━━━━━━━━━━━━━━━━━━━━━━━━━━━━━━━━━\u001b[0m \u001b[32m753.6/753.6 kB\u001b[0m \u001b[31m8.8 MB/s\u001b[0m eta \u001b[36m0:00:00\u001b[0m\n",
            "\u001b[?25h  \u001b[1;31merror\u001b[0m: \u001b[1msubprocess-exited-with-error\u001b[0m\n",
            "  \n",
            "  \u001b[31m×\u001b[0m \u001b[32mpython setup.py egg_info\u001b[0m did not run successfully.\n",
            "  \u001b[31m│\u001b[0m exit code: \u001b[1;36m1\u001b[0m\n",
            "  \u001b[31m╰─>\u001b[0m See above for output.\n",
            "  \n",
            "  \u001b[1;35mnote\u001b[0m: This error originates from a subprocess, and is likely not a problem with pip.\n",
            "  Preparing metadata (setup.py) ... \u001b[?25l\u001b[?25herror\n",
            "\u001b[1;31merror\u001b[0m: \u001b[1mmetadata-generation-failed\u001b[0m\n",
            "\n",
            "\u001b[31m×\u001b[0m Encountered error while generating package metadata.\n",
            "\u001b[31m╰─>\u001b[0m See above for output.\n",
            "\n",
            "\u001b[1;35mnote\u001b[0m: This is an issue with the package mentioned above, not pip.\n",
            "\u001b[1;36mhint\u001b[0m: See above for details.\n"
          ]
        }
      ]
    },
    {
      "cell_type": "code",
      "source": [
        "!apt-get -qq install -y graphviz && pip install -q pydot"
      ],
      "metadata": {
        "id": "b-6scsV1eVyc"
      },
      "execution_count": 65,
      "outputs": []
    },
    {
      "cell_type": "code",
      "source": [
        "!python3 \"/content/drive/My Drive/app/mnist_cnn.py\""
      ],
      "metadata": {
        "colab": {
          "base_uri": "https://localhost:8080/"
        },
        "id": "RhNXB6BHeYd5",
        "outputId": "3642eaa5-80a6-4b6e-a0d0-b1cbea899f93"
      },
      "execution_count": 66,
      "outputs": [
        {
          "output_type": "stream",
          "name": "stdout",
          "text": [
            "python3: can't open file '/content/drive/My Drive/app/mnist_cnn.py': [Errno 2] No such file or directory\n"
          ]
        }
      ]
    },
    {
      "cell_type": "code",
      "source": [
        "import tensorflow as tf\n",
        "tf.test.gpu_device_name()"
      ],
      "metadata": {
        "colab": {
          "base_uri": "https://localhost:8080/",
          "height": 36
        },
        "id": "GlWcEhB7e7cm",
        "outputId": "fafb60a6-21ab-428d-db62-46f491cc6ad9"
      },
      "execution_count": 67,
      "outputs": [
        {
          "output_type": "execute_result",
          "data": {
            "text/plain": [
              "''"
            ],
            "application/vnd.google.colaboratory.intrinsic+json": {
              "type": "string"
            }
          },
          "metadata": {},
          "execution_count": 67
        }
      ]
    },
    {
      "cell_type": "code",
      "source": [
        "'/device:GPU:0'"
      ],
      "metadata": {
        "colab": {
          "base_uri": "https://localhost:8080/",
          "height": 36
        },
        "id": "eP6PgJfre-QL",
        "outputId": "a4bb0849-5adf-40c4-9c1c-3af61e9dfe30"
      },
      "execution_count": 68,
      "outputs": [
        {
          "output_type": "execute_result",
          "data": {
            "text/plain": [
              "'/device:GPU:0'"
            ],
            "application/vnd.google.colaboratory.intrinsic+json": {
              "type": "string"
            }
          },
          "metadata": {},
          "execution_count": 68
        }
      ]
    },
    {
      "cell_type": "code",
      "source": [
        "from tensorflow.python.client import device_lib\n",
        "device_lib.list_local_devices()"
      ],
      "metadata": {
        "colab": {
          "base_uri": "https://localhost:8080/"
        },
        "id": "F733szoKfCj-",
        "outputId": "145d8a9b-d7c4-4fb2-d7b1-7cde5ddd4062"
      },
      "execution_count": 69,
      "outputs": [
        {
          "output_type": "execute_result",
          "data": {
            "text/plain": [
              "[name: \"/device:CPU:0\"\n",
              " device_type: \"CPU\"\n",
              " memory_limit: 268435456\n",
              " locality {\n",
              " }\n",
              " incarnation: 11099082750777098932\n",
              " xla_global_id: -1]"
            ]
          },
          "metadata": {},
          "execution_count": 69
        }
      ]
    },
    {
      "cell_type": "code",
      "source": [
        "!cat /proc/meminfo"
      ],
      "metadata": {
        "colab": {
          "base_uri": "https://localhost:8080/"
        },
        "id": "I8hlJg5ffFhG",
        "outputId": "2bc5ff39-495e-4cfd-a113-b4fb70a66006"
      },
      "execution_count": 70,
      "outputs": [
        {
          "output_type": "stream",
          "name": "stdout",
          "text": [
            "MemTotal:       13290460 kB\n",
            "MemFree:         6993160 kB\n",
            "MemAvailable:   11266612 kB\n",
            "Buffers:          461136 kB\n",
            "Cached:          3908964 kB\n",
            "SwapCached:            0 kB\n",
            "Active:          1309132 kB\n",
            "Inactive:        4588060 kB\n",
            "Active(anon):       2604 kB\n",
            "Inactive(anon):  1530544 kB\n",
            "Active(file):    1306528 kB\n",
            "Inactive(file):  3057516 kB\n",
            "Unevictable:          20 kB\n",
            "Mlocked:              20 kB\n",
            "SwapTotal:             0 kB\n",
            "SwapFree:              0 kB\n",
            "Dirty:               344 kB\n",
            "Writeback:            12 kB\n",
            "AnonPages:       1527116 kB\n",
            "Mapped:           822972 kB\n",
            "Shmem:              6044 kB\n",
            "KReclaimable:     234812 kB\n",
            "Slab:             286160 kB\n",
            "SReclaimable:     234812 kB\n",
            "SUnreclaim:        51348 kB\n",
            "KernelStack:        7440 kB\n",
            "PageTables:        25348 kB\n",
            "SecPageTables:         0 kB\n",
            "NFS_Unstable:          0 kB\n",
            "Bounce:                0 kB\n",
            "WritebackTmp:          0 kB\n",
            "CommitLimit:     6645228 kB\n",
            "Committed_AS:    4515364 kB\n",
            "VmallocTotal:   34359738367 kB\n",
            "VmallocUsed:       13800 kB\n",
            "VmallocChunk:          0 kB\n",
            "Percpu:             1120 kB\n",
            "HardwareCorrupted:     0 kB\n",
            "AnonHugePages:         0 kB\n",
            "ShmemHugePages:        0 kB\n",
            "ShmemPmdMapped:        0 kB\n",
            "FileHugePages:         0 kB\n",
            "FilePmdMapped:         0 kB\n",
            "CmaTotal:              0 kB\n",
            "CmaFree:               0 kB\n",
            "Unaccepted:            0 kB\n",
            "HugePages_Total:       0\n",
            "HugePages_Free:        0\n",
            "HugePages_Rsvd:        0\n",
            "HugePages_Surp:        0\n",
            "Hugepagesize:       2048 kB\n",
            "Hugetlb:               0 kB\n",
            "DirectMap4k:       80696 kB\n",
            "DirectMap2M:     6207488 kB\n",
            "DirectMap1G:     9437184 kB\n"
          ]
        }
      ]
    },
    {
      "cell_type": "code",
      "source": [],
      "metadata": {
        "id": "EI-wzKe4fR7e"
      },
      "execution_count": null,
      "outputs": []
    }
  ]
}